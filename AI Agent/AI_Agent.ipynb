{
 "cells": [
  {
   "cell_type": "markdown",
   "id": "0812b042",
   "metadata": {},
   "source": [
    "# Demo: Build AI Agent using CrewAI\n",
    "\n",
    "**Overview**\n",
    "This lab builds a 2-agent workflow with [CrewAI]:\n",
    "1. Minute Taker extracts a structured JSON from a raw meeting transcript.\n",
    "2. Minute Formatter turns that JSON into clean Markdown minutes.\n",
    "   \n",
    "We run everything locally using Ollama models via LiteLLM.\n",
    "\n",
    "---\n",
    "Quick Introduction:\n",
    "\n",
    "**What is AI Agent?**\n",
    "An AI agent is an LLM-driven program that’s given a role, goals, and (optionally) tools. It reads a task description, plans how to solve it, takes actions (e.g., call tools or other agents), and returns a result that follows a clear output contract.\n",
    "\n",
    "**The Elements of an AI Agent (CrewAI terms)**\n",
    "- Agent = Who am I? What’s my goal?\n",
    "- Task = What exactly should I do now? With what inputs? Under what rules?\n",
    "- Output = What format must I return?\n",
    "- Crew = Run these tasks, with these agents, in this order(orchestration).\n",
    "- Other useful parts:\n",
    "    - Goal: High-level outcome (“parse minutes accurately”)\n",
    "    - Context: Inputs or prior results passed into the task (context=[previous_task])\n",
    "    - LLM / Parameters: Model choice, temperature, max_tokens\n",
    "    - Tools (optional): Functions/APIs the agent can call\n",
    "    - Process: How tasks run (Process.sequential, hierarchical, etc.)"
   ]
  },
  {
   "cell_type": "code",
   "execution_count": 10,
   "id": "2e74284b",
   "metadata": {},
   "outputs": [
    {
     "name": "stdout",
     "output_type": "stream",
     "text": [
      "Requirement already satisfied: crewai in c:\\users\\60175\\appdata\\local\\programs\\python\\python312\\lib\\site-packages (0.201.0)\n",
      "Requirement already satisfied: crewai-tools in c:\\users\\60175\\appdata\\local\\programs\\python\\python312\\lib\\site-packages (0.74.0)\n",
      "Requirement already satisfied: langchain in c:\\users\\60175\\appdata\\local\\programs\\python\\python312\\lib\\site-packages (0.3.27)\n",
      "Requirement already satisfied: langchain-ollama in c:\\users\\60175\\appdata\\local\\programs\\python\\python312\\lib\\site-packages (0.3.8)\n",
      "Requirement already satisfied: litellm in c:\\users\\60175\\appdata\\local\\programs\\python\\python312\\lib\\site-packages (1.74.9)\n",
      "Collecting litellm\n",
      "  Using cached litellm-1.77.4-py3-none-any.whl.metadata (42 kB)\n",
      "Requirement already satisfied: appdirs>=1.4.4 in c:\\users\\60175\\appdata\\local\\programs\\python\\python312\\lib\\site-packages (from crewai) (1.4.4)\n",
      "Requirement already satisfied: blinker>=1.9.0 in c:\\users\\60175\\appdata\\local\\programs\\python\\python312\\lib\\site-packages (from crewai) (1.9.0)\n",
      "Requirement already satisfied: chromadb~=1.1.0 in c:\\users\\60175\\appdata\\local\\programs\\python\\python312\\lib\\site-packages (from crewai) (1.1.0)\n",
      "Requirement already satisfied: click>=8.1.7 in c:\\users\\60175\\appdata\\local\\programs\\python\\python312\\lib\\site-packages (from crewai) (8.1.8)\n",
      "Requirement already satisfied: instructor>=1.3.3 in c:\\users\\60175\\appdata\\local\\programs\\python\\python312\\lib\\site-packages (from crewai) (1.7.7)\n",
      "Requirement already satisfied: json-repair==0.25.2 in c:\\users\\60175\\appdata\\local\\programs\\python\\python312\\lib\\site-packages (from crewai) (0.25.2)\n",
      "Requirement already satisfied: json5>=0.10.0 in c:\\users\\60175\\appdata\\local\\programs\\python\\python312\\lib\\site-packages (from crewai) (0.12.0)\n",
      "Requirement already satisfied: jsonref>=1.1.0 in c:\\users\\60175\\appdata\\local\\programs\\python\\python312\\lib\\site-packages (from crewai) (1.1.0)\n",
      "Requirement already satisfied: openai>=1.13.3 in c:\\users\\60175\\appdata\\local\\programs\\python\\python312\\lib\\site-packages (from crewai) (1.109.1)\n",
      "Requirement already satisfied: openpyxl>=3.1.5 in c:\\users\\60175\\appdata\\local\\programs\\python\\python312\\lib\\site-packages (from crewai) (3.1.5)\n",
      "Requirement already satisfied: opentelemetry-api>=1.30.0 in c:\\users\\60175\\appdata\\local\\programs\\python\\python312\\lib\\site-packages (from crewai) (1.35.0)\n",
      "Requirement already satisfied: opentelemetry-exporter-otlp-proto-http>=1.30.0 in c:\\users\\60175\\appdata\\local\\programs\\python\\python312\\lib\\site-packages (from crewai) (1.35.0)\n",
      "Requirement already satisfied: opentelemetry-sdk>=1.30.0 in c:\\users\\60175\\appdata\\local\\programs\\python\\python312\\lib\\site-packages (from crewai) (1.35.0)\n",
      "Requirement already satisfied: pdfplumber>=0.11.4 in c:\\users\\60175\\appdata\\local\\programs\\python\\python312\\lib\\site-packages (from crewai) (0.11.4)\n",
      "Requirement already satisfied: portalocker==2.7.0 in c:\\users\\60175\\appdata\\local\\programs\\python\\python312\\lib\\site-packages (from crewai) (2.7.0)\n",
      "Requirement already satisfied: pydantic-settings>=2.10.1 in c:\\users\\60175\\appdata\\local\\programs\\python\\python312\\lib\\site-packages (from crewai) (2.11.0)\n",
      "Requirement already satisfied: pydantic>=2.11.9 in c:\\users\\60175\\appdata\\local\\programs\\python\\python312\\lib\\site-packages (from crewai) (2.11.9)\n",
      "Requirement already satisfied: pyjwt>=2.9.0 in c:\\users\\60175\\appdata\\local\\programs\\python\\python312\\lib\\site-packages (from crewai) (2.10.1)\n",
      "Requirement already satisfied: python-dotenv>=1.1.1 in c:\\users\\60175\\appdata\\local\\programs\\python\\python312\\lib\\site-packages (from crewai) (1.1.1)\n",
      "Requirement already satisfied: pyvis>=0.3.2 in c:\\users\\60175\\appdata\\local\\programs\\python\\python312\\lib\\site-packages (from crewai) (0.3.2)\n",
      "Requirement already satisfied: regex>=2024.9.11 in c:\\users\\60175\\appdata\\local\\programs\\python\\python312\\lib\\site-packages (from crewai) (2024.11.6)\n",
      "Requirement already satisfied: tokenizers>=0.20.3 in c:\\users\\60175\\appdata\\local\\programs\\python\\python312\\lib\\site-packages (from crewai) (0.22.1)\n",
      "Requirement already satisfied: tomli-w>=1.1.0 in c:\\users\\60175\\appdata\\local\\programs\\python\\python312\\lib\\site-packages (from crewai) (1.2.0)\n",
      "Requirement already satisfied: tomli>=2.0.2 in c:\\users\\60175\\appdata\\local\\programs\\python\\python312\\lib\\site-packages (from crewai) (2.2.1)\n",
      "Requirement already satisfied: uv>=0.4.25 in c:\\users\\60175\\appdata\\local\\programs\\python\\python312\\lib\\site-packages (from crewai) (0.8.3)\n",
      "Requirement already satisfied: aiohttp>=3.10 in c:\\users\\60175\\appdata\\local\\programs\\python\\python312\\lib\\site-packages (from litellm) (3.11.14)\n",
      "Requirement already satisfied: httpx>=0.23.0 in c:\\users\\60175\\appdata\\local\\programs\\python\\python312\\lib\\site-packages (from litellm) (0.27.2)\n",
      "Requirement already satisfied: importlib-metadata>=6.8.0 in c:\\users\\60175\\appdata\\local\\programs\\python\\python312\\lib\\site-packages (from litellm) (7.0.1)\n",
      "Requirement already satisfied: jinja2<4.0.0,>=3.1.2 in c:\\users\\60175\\appdata\\local\\programs\\python\\python312\\lib\\site-packages (from litellm) (3.1.4)\n",
      "Requirement already satisfied: jsonschema<5.0.0,>=4.22.0 in c:\\users\\60175\\appdata\\local\\programs\\python\\python312\\lib\\site-packages (from litellm) (4.23.0)\n",
      "Requirement already satisfied: tiktoken>=0.7.0 in c:\\users\\60175\\appdata\\local\\programs\\python\\python312\\lib\\site-packages (from litellm) (0.11.0)\n",
      "Requirement already satisfied: pywin32>=226 in c:\\users\\60175\\appdata\\roaming\\python\\python312\\site-packages (from portalocker==2.7.0->crewai) (308)\n",
      "Requirement already satisfied: beautifulsoup4>=4.13.4 in c:\\users\\60175\\appdata\\local\\programs\\python\\python312\\lib\\site-packages (from crewai-tools) (4.13.5)\n",
      "Requirement already satisfied: docker>=7.1.0 in c:\\users\\60175\\appdata\\local\\programs\\python\\python312\\lib\\site-packages (from crewai-tools) (7.1.0)\n",
      "Requirement already satisfied: lancedb>=0.5.4 in c:\\users\\60175\\appdata\\local\\programs\\python\\python312\\lib\\site-packages (from crewai-tools) (0.10.2)\n",
      "Requirement already satisfied: pypdf>=5.9.0 in c:\\users\\60175\\appdata\\local\\programs\\python\\python312\\lib\\site-packages (from crewai-tools) (6.1.0)\n",
      "Requirement already satisfied: python-docx>=1.2.0 in c:\\users\\60175\\appdata\\local\\programs\\python\\python312\\lib\\site-packages (from crewai-tools) (1.2.0)\n",
      "Requirement already satisfied: pytube>=15.0.0 in c:\\users\\60175\\appdata\\local\\programs\\python\\python312\\lib\\site-packages (from crewai-tools) (15.0.0)\n",
      "Requirement already satisfied: requests>=2.31.0 in c:\\users\\60175\\appdata\\local\\programs\\python\\python312\\lib\\site-packages (from crewai-tools) (2.32.5)\n",
      "Requirement already satisfied: stagehand>=0.4.1 in c:\\users\\60175\\appdata\\local\\programs\\python\\python312\\lib\\site-packages (from crewai-tools) (0.5.3)\n",
      "Requirement already satisfied: youtube-transcript-api>=1.2.2 in c:\\users\\60175\\appdata\\local\\programs\\python\\python312\\lib\\site-packages (from crewai-tools) (1.2.2)\n",
      "Requirement already satisfied: langchain-core<1.0.0,>=0.3.72 in c:\\users\\60175\\appdata\\local\\programs\\python\\python312\\lib\\site-packages (from langchain) (0.3.76)\n",
      "Requirement already satisfied: langchain-text-splitters<1.0.0,>=0.3.9 in c:\\users\\60175\\appdata\\local\\programs\\python\\python312\\lib\\site-packages (from langchain) (0.3.11)\n",
      "Requirement already satisfied: langsmith>=0.1.17 in c:\\users\\60175\\appdata\\local\\programs\\python\\python312\\lib\\site-packages (from langchain) (0.3.45)\n",
      "Requirement already satisfied: SQLAlchemy<3,>=1.4 in c:\\users\\60175\\appdata\\local\\programs\\python\\python312\\lib\\site-packages (from langchain) (2.0.30)\n",
      "Requirement already satisfied: PyYAML>=5.3 in c:\\users\\60175\\appdata\\local\\programs\\python\\python312\\lib\\site-packages (from langchain) (6.0.2)\n",
      "Requirement already satisfied: ollama<1.0.0,>=0.5.3 in c:\\users\\60175\\appdata\\local\\programs\\python\\python312\\lib\\site-packages (from langchain-ollama) (0.6.0)\n",
      "Requirement already satisfied: aiohappyeyeballs>=2.3.0 in c:\\users\\60175\\appdata\\local\\programs\\python\\python312\\lib\\site-packages (from aiohttp>=3.10->litellm) (2.4.3)\n",
      "Requirement already satisfied: aiosignal>=1.1.2 in c:\\users\\60175\\appdata\\local\\programs\\python\\python312\\lib\\site-packages (from aiohttp>=3.10->litellm) (1.3.1)\n",
      "Requirement already satisfied: attrs>=17.3.0 in c:\\users\\60175\\appdata\\local\\programs\\python\\python312\\lib\\site-packages (from aiohttp>=3.10->litellm) (23.2.0)\n",
      "Requirement already satisfied: frozenlist>=1.1.1 in c:\\users\\60175\\appdata\\local\\programs\\python\\python312\\lib\\site-packages (from aiohttp>=3.10->litellm) (1.5.0)\n",
      "Requirement already satisfied: multidict<7.0,>=4.5 in c:\\users\\60175\\appdata\\local\\programs\\python\\python312\\lib\\site-packages (from aiohttp>=3.10->litellm) (6.1.0)\n",
      "Requirement already satisfied: propcache>=0.2.0 in c:\\users\\60175\\appdata\\local\\programs\\python\\python312\\lib\\site-packages (from aiohttp>=3.10->litellm) (0.2.0)\n",
      "Requirement already satisfied: yarl<2.0,>=1.17.0 in c:\\users\\60175\\appdata\\local\\programs\\python\\python312\\lib\\site-packages (from aiohttp>=3.10->litellm) (1.17.1)\n",
      "Requirement already satisfied: soupsieve>1.2 in c:\\users\\60175\\appdata\\local\\programs\\python\\python312\\lib\\site-packages (from beautifulsoup4>=4.13.4->crewai-tools) (2.5)\n",
      "Requirement already satisfied: typing-extensions>=4.0.0 in c:\\users\\60175\\appdata\\local\\programs\\python\\python312\\lib\\site-packages (from beautifulsoup4>=4.13.4->crewai-tools) (4.15.0)\n",
      "Requirement already satisfied: build>=1.0.3 in c:\\users\\60175\\appdata\\local\\programs\\python\\python312\\lib\\site-packages (from chromadb~=1.1.0->crewai) (1.2.2.post1)\n",
      "Requirement already satisfied: pybase64>=1.4.1 in c:\\users\\60175\\appdata\\local\\programs\\python\\python312\\lib\\site-packages (from chromadb~=1.1.0->crewai) (1.4.2)\n",
      "Requirement already satisfied: uvicorn>=0.18.3 in c:\\users\\60175\\appdata\\local\\programs\\python\\python312\\lib\\site-packages (from uvicorn[standard]>=0.18.3->chromadb~=1.1.0->crewai) (0.25.0)\n",
      "Requirement already satisfied: numpy>=1.22.5 in c:\\users\\60175\\appdata\\local\\programs\\python\\python312\\lib\\site-packages (from chromadb~=1.1.0->crewai) (1.26.4)\n",
      "Requirement already satisfied: posthog<6.0.0,>=2.4.0 in c:\\users\\60175\\appdata\\local\\programs\\python\\python312\\lib\\site-packages (from chromadb~=1.1.0->crewai) (3.7.0)\n",
      "Requirement already satisfied: onnxruntime>=1.14.1 in c:\\users\\60175\\appdata\\local\\programs\\python\\python312\\lib\\site-packages (from chromadb~=1.1.0->crewai) (1.22.0)\n",
      "Requirement already satisfied: opentelemetry-exporter-otlp-proto-grpc>=1.2.0 in c:\\users\\60175\\appdata\\local\\programs\\python\\python312\\lib\\site-packages (from chromadb~=1.1.0->crewai) (1.35.0)\n",
      "Requirement already satisfied: pypika>=0.48.9 in c:\\users\\60175\\appdata\\local\\programs\\python\\python312\\lib\\site-packages (from chromadb~=1.1.0->crewai) (0.48.9)\n",
      "Requirement already satisfied: tqdm>=4.65.0 in c:\\users\\60175\\appdata\\local\\programs\\python\\python312\\lib\\site-packages (from chromadb~=1.1.0->crewai) (4.67.1)\n",
      "Requirement already satisfied: overrides>=7.3.1 in c:\\users\\60175\\appdata\\local\\programs\\python\\python312\\lib\\site-packages (from chromadb~=1.1.0->crewai) (7.7.0)\n",
      "Requirement already satisfied: importlib-resources in c:\\users\\60175\\appdata\\local\\programs\\python\\python312\\lib\\site-packages (from chromadb~=1.1.0->crewai) (6.4.0)\n",
      "Requirement already satisfied: grpcio>=1.58.0 in c:\\users\\60175\\appdata\\local\\programs\\python\\python312\\lib\\site-packages (from chromadb~=1.1.0->crewai) (1.67.1)\n",
      "Requirement already satisfied: bcrypt>=4.0.1 in c:\\users\\60175\\appdata\\local\\programs\\python\\python312\\lib\\site-packages (from chromadb~=1.1.0->crewai) (4.2.0)\n",
      "Requirement already satisfied: typer>=0.9.0 in c:\\users\\60175\\appdata\\local\\programs\\python\\python312\\lib\\site-packages (from chromadb~=1.1.0->crewai) (0.15.1)\n",
      "Requirement already satisfied: kubernetes>=28.1.0 in c:\\users\\60175\\appdata\\local\\programs\\python\\python312\\lib\\site-packages (from chromadb~=1.1.0->crewai) (31.0.0)\n",
      "Requirement already satisfied: tenacity>=8.2.3 in c:\\users\\60175\\appdata\\local\\programs\\python\\python312\\lib\\site-packages (from chromadb~=1.1.0->crewai) (9.0.0)\n",
      "Requirement already satisfied: mmh3>=4.0.1 in c:\\users\\60175\\appdata\\local\\programs\\python\\python312\\lib\\site-packages (from chromadb~=1.1.0->crewai) (5.0.1)\n",
      "Requirement already satisfied: orjson>=3.9.12 in c:\\users\\60175\\appdata\\local\\programs\\python\\python312\\lib\\site-packages (from chromadb~=1.1.0->crewai) (3.10.11)\n",
      "Requirement already satisfied: rich>=10.11.0 in c:\\users\\60175\\appdata\\local\\programs\\python\\python312\\lib\\site-packages (from chromadb~=1.1.0->crewai) (13.9.4)\n",
      "Requirement already satisfied: colorama in c:\\users\\60175\\appdata\\local\\programs\\python\\python312\\lib\\site-packages (from click>=8.1.7->crewai) (0.4.6)\n",
      "Requirement already satisfied: urllib3>=1.26.0 in c:\\users\\60175\\appdata\\local\\programs\\python\\python312\\lib\\site-packages (from docker>=7.1.0->crewai-tools) (1.26.18)\n",
      "Requirement already satisfied: anyio in c:\\users\\60175\\appdata\\local\\programs\\python\\python312\\lib\\site-packages (from httpx>=0.23.0->litellm) (4.7.0)\n",
      "Requirement already satisfied: certifi in c:\\users\\60175\\appdata\\local\\programs\\python\\python312\\lib\\site-packages (from httpx>=0.23.0->litellm) (2024.12.14)\n",
      "Requirement already satisfied: httpcore==1.* in c:\\users\\60175\\appdata\\local\\programs\\python\\python312\\lib\\site-packages (from httpx>=0.23.0->litellm) (1.0.7)\n",
      "Requirement already satisfied: idna in c:\\users\\60175\\appdata\\local\\programs\\python\\python312\\lib\\site-packages (from httpx>=0.23.0->litellm) (3.10)\n",
      "Requirement already satisfied: sniffio in c:\\users\\60175\\appdata\\local\\programs\\python\\python312\\lib\\site-packages (from httpx>=0.23.0->litellm) (1.3.1)\n",
      "Requirement already satisfied: h11<0.15,>=0.13 in c:\\users\\60175\\appdata\\local\\programs\\python\\python312\\lib\\site-packages (from httpcore==1.*->httpx>=0.23.0->litellm) (0.14.0)\n",
      "Requirement already satisfied: zipp>=0.5 in c:\\users\\60175\\appdata\\local\\programs\\python\\python312\\lib\\site-packages (from importlib-metadata>=6.8.0->litellm) (3.17.0)\n",
      "Requirement already satisfied: docstring-parser<1.0,>=0.16 in c:\\users\\60175\\appdata\\local\\programs\\python\\python312\\lib\\site-packages (from instructor>=1.3.3->crewai) (0.16)\n",
      "Requirement already satisfied: jiter<0.9,>=0.6.1 in c:\\users\\60175\\appdata\\local\\programs\\python\\python312\\lib\\site-packages (from instructor>=1.3.3->crewai) (0.7.0)\n",
      "Requirement already satisfied: pydantic-core<3.0.0,>=2.18.0 in c:\\users\\60175\\appdata\\local\\programs\\python\\python312\\lib\\site-packages (from instructor>=1.3.3->crewai) (2.33.2)\n",
      "Requirement already satisfied: MarkupSafe>=2.0 in c:\\users\\60175\\appdata\\local\\programs\\python\\python312\\lib\\site-packages (from jinja2<4.0.0,>=3.1.2->litellm) (2.1.5)\n",
      "Requirement already satisfied: jsonschema-specifications>=2023.03.6 in c:\\users\\60175\\appdata\\local\\programs\\python\\python312\\lib\\site-packages (from jsonschema<5.0.0,>=4.22.0->litellm) (2023.12.1)\n",
      "Requirement already satisfied: referencing>=0.28.4 in c:\\users\\60175\\appdata\\local\\programs\\python\\python312\\lib\\site-packages (from jsonschema<5.0.0,>=4.22.0->litellm) (0.33.0)\n",
      "Requirement already satisfied: rpds-py>=0.7.1 in c:\\users\\60175\\appdata\\local\\programs\\python\\python312\\lib\\site-packages (from jsonschema<5.0.0,>=4.22.0->litellm) (0.17.1)\n",
      "Requirement already satisfied: deprecation in c:\\users\\60175\\appdata\\local\\programs\\python\\python312\\lib\\site-packages (from lancedb>=0.5.4->crewai-tools) (2.1.0)\n",
      "Requirement already satisfied: pylance==0.14.1 in c:\\users\\60175\\appdata\\local\\programs\\python\\python312\\lib\\site-packages (from lancedb>=0.5.4->crewai-tools) (0.14.1)\n",
      "Requirement already satisfied: ratelimiter~=1.0 in c:\\users\\60175\\appdata\\local\\programs\\python\\python312\\lib\\site-packages (from lancedb>=0.5.4->crewai-tools) (1.2.0.post0)\n",
      "Requirement already satisfied: retry>=0.9.2 in c:\\users\\60175\\appdata\\local\\programs\\python\\python312\\lib\\site-packages (from lancedb>=0.5.4->crewai-tools) (0.9.2)\n",
      "Requirement already satisfied: packaging in c:\\users\\60175\\appdata\\local\\programs\\python\\python312\\lib\\site-packages (from lancedb>=0.5.4->crewai-tools) (24.2)\n",
      "Requirement already satisfied: cachetools in c:\\users\\60175\\appdata\\local\\programs\\python\\python312\\lib\\site-packages (from lancedb>=0.5.4->crewai-tools) (5.3.2)\n",
      "Requirement already satisfied: pyarrow<15.0.1,>=12 in c:\\users\\60175\\appdata\\local\\programs\\python\\python312\\lib\\site-packages (from pylance==0.14.1->lancedb>=0.5.4->crewai-tools) (15.0.0)\n",
      "Requirement already satisfied: jsonpatch<2.0,>=1.33 in c:\\users\\60175\\appdata\\local\\programs\\python\\python312\\lib\\site-packages (from langchain-core<1.0.0,>=0.3.72->langchain) (1.33)\n",
      "Requirement already satisfied: requests-toolbelt<2.0.0,>=1.0.0 in c:\\users\\60175\\appdata\\local\\programs\\python\\python312\\lib\\site-packages (from langsmith>=0.1.17->langchain) (1.0.0)\n",
      "Requirement already satisfied: zstandard<0.24.0,>=0.23.0 in c:\\users\\60175\\appdata\\local\\programs\\python\\python312\\lib\\site-packages (from langsmith>=0.1.17->langchain) (0.23.0)\n",
      "Requirement already satisfied: distro<2,>=1.7.0 in c:\\users\\60175\\appdata\\local\\programs\\python\\python312\\lib\\site-packages (from openai>=1.13.3->crewai) (1.9.0)\n",
      "Requirement already satisfied: et-xmlfile in c:\\users\\60175\\appdata\\local\\programs\\python\\python312\\lib\\site-packages (from openpyxl>=3.1.5->crewai) (1.1.0)\n",
      "Requirement already satisfied: googleapis-common-protos~=1.52 in c:\\users\\60175\\appdata\\local\\programs\\python\\python312\\lib\\site-packages (from opentelemetry-exporter-otlp-proto-http>=1.30.0->crewai) (1.65.0)\n",
      "Requirement already satisfied: opentelemetry-exporter-otlp-proto-common==1.35.0 in c:\\users\\60175\\appdata\\local\\programs\\python\\python312\\lib\\site-packages (from opentelemetry-exporter-otlp-proto-http>=1.30.0->crewai) (1.35.0)\n",
      "Requirement already satisfied: opentelemetry-proto==1.35.0 in c:\\users\\60175\\appdata\\local\\programs\\python\\python312\\lib\\site-packages (from opentelemetry-exporter-otlp-proto-http>=1.30.0->crewai) (1.35.0)\n",
      "Requirement already satisfied: protobuf<7.0,>=5.0 in c:\\users\\60175\\appdata\\local\\programs\\python\\python312\\lib\\site-packages (from opentelemetry-proto==1.35.0->opentelemetry-exporter-otlp-proto-http>=1.30.0->crewai) (5.28.3)\n",
      "Requirement already satisfied: opentelemetry-semantic-conventions==0.56b0 in c:\\users\\60175\\appdata\\local\\programs\\python\\python312\\lib\\site-packages (from opentelemetry-sdk>=1.30.0->crewai) (0.56b0)\n",
      "Requirement already satisfied: pdfminer.six==20231228 in c:\\users\\60175\\appdata\\local\\programs\\python\\python312\\lib\\site-packages (from pdfplumber>=0.11.4->crewai) (20231228)\n",
      "Requirement already satisfied: Pillow>=9.1 in c:\\users\\60175\\appdata\\local\\programs\\python\\python312\\lib\\site-packages (from pdfplumber>=0.11.4->crewai) (10.4.0)\n",
      "Requirement already satisfied: pypdfium2>=4.18.0 in c:\\users\\60175\\appdata\\local\\programs\\python\\python312\\lib\\site-packages (from pdfplumber>=0.11.4->crewai) (4.30.0)\n",
      "Requirement already satisfied: charset-normalizer>=2.0.0 in c:\\users\\60175\\appdata\\local\\programs\\python\\python312\\lib\\site-packages (from pdfminer.six==20231228->pdfplumber>=0.11.4->crewai) (3.4.1)\n",
      "Requirement already satisfied: cryptography>=36.0.0 in c:\\users\\60175\\appdata\\local\\programs\\python\\python312\\lib\\site-packages (from pdfminer.six==20231228->pdfplumber>=0.11.4->crewai) (44.0.0)\n",
      "Requirement already satisfied: annotated-types>=0.6.0 in c:\\users\\60175\\appdata\\local\\programs\\python\\python312\\lib\\site-packages (from pydantic>=2.11.9->crewai) (0.6.0)\n",
      "Requirement already satisfied: typing-inspection>=0.4.0 in c:\\users\\60175\\appdata\\local\\programs\\python\\python312\\lib\\site-packages (from pydantic>=2.11.9->crewai) (0.4.1)\n",
      "Requirement already satisfied: lxml>=3.1.0 in c:\\users\\60175\\appdata\\local\\programs\\python\\python312\\lib\\site-packages (from python-docx>=1.2.0->crewai-tools) (5.3.0)\n",
      "Requirement already satisfied: ipython>=5.3.0 in c:\\users\\60175\\appdata\\local\\programs\\python\\python312\\lib\\site-packages (from pyvis>=0.3.2->crewai) (8.25.0)\n",
      "Requirement already satisfied: jsonpickle>=1.4.1 in c:\\users\\60175\\appdata\\local\\programs\\python\\python312\\lib\\site-packages (from pyvis>=0.3.2->crewai) (4.1.1)\n",
      "Requirement already satisfied: networkx>=1.11 in c:\\users\\60175\\appdata\\local\\programs\\python\\python312\\lib\\site-packages (from pyvis>=0.3.2->crewai) (3.4.2)\n",
      "Requirement already satisfied: greenlet!=0.4.17 in c:\\users\\60175\\appdata\\local\\programs\\python\\python312\\lib\\site-packages (from SQLAlchemy<3,>=1.4->langchain) (3.1.1)\n",
      "Requirement already satisfied: playwright>=1.42.1 in c:\\users\\60175\\appdata\\local\\programs\\python\\python312\\lib\\site-packages (from stagehand>=0.4.1->crewai-tools) (1.51.0)\n",
      "Requirement already satisfied: browserbase>=1.4.0 in c:\\users\\60175\\appdata\\local\\programs\\python\\python312\\lib\\site-packages (from stagehand>=0.4.1->crewai-tools) (1.4.0)\n",
      "Requirement already satisfied: anthropic>=0.51.0 in c:\\users\\60175\\appdata\\local\\programs\\python\\python312\\lib\\site-packages (from stagehand>=0.4.1->crewai-tools) (0.68.0)\n",
      "Requirement already satisfied: nest-asyncio>=1.6.0 in c:\\users\\60175\\appdata\\roaming\\python\\python312\\site-packages (from stagehand>=0.4.1->crewai-tools) (1.6.0)\n",
      "Requirement already satisfied: huggingface-hub<2.0,>=0.16.4 in c:\\users\\60175\\appdata\\local\\programs\\python\\python312\\lib\\site-packages (from tokenizers>=0.20.3->crewai) (0.35.1)\n",
      "Requirement already satisfied: defusedxml<0.8.0,>=0.7.1 in c:\\users\\60175\\appdata\\local\\programs\\python\\python312\\lib\\site-packages (from youtube-transcript-api>=1.2.2->crewai-tools) (0.7.1)\n",
      "Requirement already satisfied: pyproject_hooks in c:\\users\\60175\\appdata\\local\\programs\\python\\python312\\lib\\site-packages (from build>=1.0.3->chromadb~=1.1.0->crewai) (1.2.0)\n",
      "Requirement already satisfied: filelock in c:\\users\\60175\\appdata\\local\\programs\\python\\python312\\lib\\site-packages (from huggingface-hub<2.0,>=0.16.4->tokenizers>=0.20.3->crewai) (3.16.1)\n",
      "Requirement already satisfied: fsspec>=2023.5.0 in c:\\users\\60175\\appdata\\local\\programs\\python\\python312\\lib\\site-packages (from huggingface-hub<2.0,>=0.16.4->tokenizers>=0.20.3->crewai) (2024.9.0)\n",
      "Requirement already satisfied: decorator in c:\\users\\60175\\appdata\\local\\programs\\python\\python312\\lib\\site-packages (from ipython>=5.3.0->pyvis>=0.3.2->crewai) (5.1.1)\n",
      "Requirement already satisfied: jedi>=0.16 in c:\\users\\60175\\appdata\\local\\programs\\python\\python312\\lib\\site-packages (from ipython>=5.3.0->pyvis>=0.3.2->crewai) (0.19.1)\n",
      "Requirement already satisfied: matplotlib-inline in c:\\users\\60175\\appdata\\local\\programs\\python\\python312\\lib\\site-packages (from ipython>=5.3.0->pyvis>=0.3.2->crewai) (0.1.7)\n",
      "Requirement already satisfied: prompt-toolkit<3.1.0,>=3.0.41 in c:\\users\\60175\\appdata\\local\\programs\\python\\python312\\lib\\site-packages (from ipython>=5.3.0->pyvis>=0.3.2->crewai) (3.0.47)\n",
      "Requirement already satisfied: pygments>=2.4.0 in c:\\users\\60175\\appdata\\local\\programs\\python\\python312\\lib\\site-packages (from ipython>=5.3.0->pyvis>=0.3.2->crewai) (2.17.2)\n",
      "Requirement already satisfied: stack-data in c:\\users\\60175\\appdata\\local\\programs\\python\\python312\\lib\\site-packages (from ipython>=5.3.0->pyvis>=0.3.2->crewai) (0.6.3)\n",
      "Requirement already satisfied: traitlets>=5.13.0 in c:\\users\\60175\\appdata\\local\\programs\\python\\python312\\lib\\site-packages (from ipython>=5.3.0->pyvis>=0.3.2->crewai) (5.14.3)\n",
      "Requirement already satisfied: jsonpointer>=1.9 in c:\\users\\60175\\appdata\\local\\programs\\python\\python312\\lib\\site-packages (from jsonpatch<2.0,>=1.33->langchain-core<1.0.0,>=0.3.72->langchain) (3.0.0)\n",
      "Requirement already satisfied: six>=1.9.0 in c:\\users\\60175\\appdata\\local\\programs\\python\\python312\\lib\\site-packages (from kubernetes>=28.1.0->chromadb~=1.1.0->crewai) (1.16.0)\n",
      "Requirement already satisfied: python-dateutil>=2.5.3 in c:\\users\\60175\\appdata\\local\\programs\\python\\python312\\lib\\site-packages (from kubernetes>=28.1.0->chromadb~=1.1.0->crewai) (2.9.0.post0)\n",
      "Requirement already satisfied: google-auth>=1.0.1 in c:\\users\\60175\\appdata\\local\\programs\\python\\python312\\lib\\site-packages (from kubernetes>=28.1.0->chromadb~=1.1.0->crewai) (2.36.0)\n",
      "Requirement already satisfied: websocket-client!=0.40.0,!=0.41.*,!=0.42.*,>=0.32.0 in c:\\users\\60175\\appdata\\local\\programs\\python\\python312\\lib\\site-packages (from kubernetes>=28.1.0->chromadb~=1.1.0->crewai) (1.8.0)\n",
      "Requirement already satisfied: requests-oauthlib in c:\\users\\60175\\appdata\\local\\programs\\python\\python312\\lib\\site-packages (from kubernetes>=28.1.0->chromadb~=1.1.0->crewai) (2.0.0)\n",
      "Requirement already satisfied: oauthlib>=3.2.2 in c:\\users\\60175\\appdata\\local\\programs\\python\\python312\\lib\\site-packages (from kubernetes>=28.1.0->chromadb~=1.1.0->crewai) (3.2.2)\n",
      "Requirement already satisfied: durationpy>=0.7 in c:\\users\\60175\\appdata\\local\\programs\\python\\python312\\lib\\site-packages (from kubernetes>=28.1.0->chromadb~=1.1.0->crewai) (0.9)\n",
      "Requirement already satisfied: coloredlogs in c:\\users\\60175\\appdata\\local\\programs\\python\\python312\\lib\\site-packages (from onnxruntime>=1.14.1->chromadb~=1.1.0->crewai) (15.0.1)\n",
      "Requirement already satisfied: flatbuffers in c:\\users\\60175\\appdata\\local\\programs\\python\\python312\\lib\\site-packages (from onnxruntime>=1.14.1->chromadb~=1.1.0->crewai) (24.3.25)\n",
      "Requirement already satisfied: sympy in c:\\users\\60175\\appdata\\local\\programs\\python\\python312\\lib\\site-packages (from onnxruntime>=1.14.1->chromadb~=1.1.0->crewai) (1.14.0)\n",
      "Requirement already satisfied: pyee<13,>=12 in c:\\users\\60175\\appdata\\local\\programs\\python\\python312\\lib\\site-packages (from playwright>=1.42.1->stagehand>=0.4.1->crewai-tools) (12.1.1)\n",
      "Requirement already satisfied: monotonic>=1.5 in c:\\users\\60175\\appdata\\local\\programs\\python\\python312\\lib\\site-packages (from posthog<6.0.0,>=2.4.0->chromadb~=1.1.0->crewai) (1.6)\n",
      "Requirement already satisfied: backoff>=1.10.0 in c:\\users\\60175\\appdata\\local\\programs\\python\\python312\\lib\\site-packages (from posthog<6.0.0,>=2.4.0->chromadb~=1.1.0->crewai) (2.2.1)\n",
      "Requirement already satisfied: py<2.0.0,>=1.4.26 in c:\\users\\60175\\appdata\\local\\programs\\python\\python312\\lib\\site-packages (from retry>=0.9.2->lancedb>=0.5.4->crewai-tools) (1.11.0)\n",
      "Requirement already satisfied: markdown-it-py>=2.2.0 in c:\\users\\60175\\appdata\\local\\programs\\python\\python312\\lib\\site-packages (from rich>=10.11.0->chromadb~=1.1.0->crewai) (3.0.0)\n",
      "Requirement already satisfied: shellingham>=1.3.0 in c:\\users\\60175\\appdata\\local\\programs\\python\\python312\\lib\\site-packages (from typer>=0.9.0->chromadb~=1.1.0->crewai) (1.5.4)\n",
      "Requirement already satisfied: httptools>=0.5.0 in c:\\users\\60175\\appdata\\local\\programs\\python\\python312\\lib\\site-packages (from uvicorn[standard]>=0.18.3->chromadb~=1.1.0->crewai) (0.6.4)\n",
      "Requirement already satisfied: watchfiles>=0.13 in c:\\users\\60175\\appdata\\local\\programs\\python\\python312\\lib\\site-packages (from uvicorn[standard]>=0.18.3->chromadb~=1.1.0->crewai) (0.20.0)\n",
      "Requirement already satisfied: websockets>=10.4 in c:\\users\\60175\\appdata\\local\\programs\\python\\python312\\lib\\site-packages (from uvicorn[standard]>=0.18.3->chromadb~=1.1.0->crewai) (13.0)\n",
      "Requirement already satisfied: cffi>=1.12 in c:\\users\\60175\\appdata\\local\\programs\\python\\python312\\lib\\site-packages (from cryptography>=36.0.0->pdfminer.six==20231228->pdfplumber>=0.11.4->crewai) (1.16.0)\n",
      "Requirement already satisfied: pyasn1-modules>=0.2.1 in c:\\users\\60175\\appdata\\local\\programs\\python\\python312\\lib\\site-packages (from google-auth>=1.0.1->kubernetes>=28.1.0->chromadb~=1.1.0->crewai) (0.4.1)\n",
      "Requirement already satisfied: rsa<5,>=3.1.4 in c:\\users\\60175\\appdata\\local\\programs\\python\\python312\\lib\\site-packages (from google-auth>=1.0.1->kubernetes>=28.1.0->chromadb~=1.1.0->crewai) (4.9)\n",
      "Requirement already satisfied: parso<0.9.0,>=0.8.3 in c:\\users\\60175\\appdata\\local\\programs\\python\\python312\\lib\\site-packages (from jedi>=0.16->ipython>=5.3.0->pyvis>=0.3.2->crewai) (0.8.4)\n",
      "Requirement already satisfied: mdurl~=0.1 in c:\\users\\60175\\appdata\\local\\programs\\python\\python312\\lib\\site-packages (from markdown-it-py>=2.2.0->rich>=10.11.0->chromadb~=1.1.0->crewai) (0.1.2)\n",
      "Requirement already satisfied: wcwidth in c:\\users\\60175\\appdata\\local\\programs\\python\\python312\\lib\\site-packages (from prompt-toolkit<3.1.0,>=3.0.41->ipython>=5.3.0->pyvis>=0.3.2->crewai) (0.2.13)\n",
      "Requirement already satisfied: humanfriendly>=9.1 in c:\\users\\60175\\appdata\\local\\programs\\python\\python312\\lib\\site-packages (from coloredlogs->onnxruntime>=1.14.1->chromadb~=1.1.0->crewai) (10.0)\n",
      "Requirement already satisfied: executing>=1.2.0 in c:\\users\\60175\\appdata\\local\\programs\\python\\python312\\lib\\site-packages (from stack-data->ipython>=5.3.0->pyvis>=0.3.2->crewai) (2.0.1)\n",
      "Requirement already satisfied: asttokens>=2.1.0 in c:\\users\\60175\\appdata\\local\\programs\\python\\python312\\lib\\site-packages (from stack-data->ipython>=5.3.0->pyvis>=0.3.2->crewai) (2.4.1)\n",
      "Requirement already satisfied: pure-eval in c:\\users\\60175\\appdata\\local\\programs\\python\\python312\\lib\\site-packages (from stack-data->ipython>=5.3.0->pyvis>=0.3.2->crewai) (0.2.2)\n",
      "Requirement already satisfied: mpmath<1.4,>=1.1.0 in c:\\users\\60175\\appdata\\local\\programs\\python\\python312\\lib\\site-packages (from sympy->onnxruntime>=1.14.1->chromadb~=1.1.0->crewai) (1.3.0)\n",
      "Requirement already satisfied: pycparser in c:\\users\\60175\\appdata\\local\\programs\\python\\python312\\lib\\site-packages (from cffi>=1.12->cryptography>=36.0.0->pdfminer.six==20231228->pdfplumber>=0.11.4->crewai) (2.22)\n",
      "Requirement already satisfied: pyreadline3 in c:\\users\\60175\\appdata\\local\\programs\\python\\python312\\lib\\site-packages (from humanfriendly>=9.1->coloredlogs->onnxruntime>=1.14.1->chromadb~=1.1.0->crewai) (3.5.4)\n",
      "Requirement already satisfied: pyasn1<0.7.0,>=0.4.6 in c:\\users\\60175\\appdata\\local\\programs\\python\\python312\\lib\\site-packages (from pyasn1-modules>=0.2.1->google-auth>=1.0.1->kubernetes>=28.1.0->chromadb~=1.1.0->crewai) (0.6.1)\n",
      "Note: you may need to restart the kernel to use updated packages.\n"
     ]
    },
    {
     "name": "stderr",
     "output_type": "stream",
     "text": [
      "WARNING: Ignoring invalid distribution ~treamlit (c:\\Users\\60175\\AppData\\Local\\Programs\\Python\\Python312\\Lib\\site-packages)\n",
      "WARNING: Ignoring invalid distribution ~treamlit (c:\\Users\\60175\\AppData\\Local\\Programs\\Python\\Python312\\Lib\\site-packages)\n",
      "WARNING: Ignoring invalid distribution ~treamlit (c:\\Users\\60175\\AppData\\Local\\Programs\\Python\\Python312\\Lib\\site-packages)\n",
      "\n",
      "[notice] A new release of pip is available: 25.0.1 -> 25.2\n",
      "[notice] To update, run: python.exe -m pip install --upgrade pip\n"
     ]
    }
   ],
   "source": [
    "%pip install -U crewai crewai-tools langchain langchain-ollama litellm"
   ]
  },
  {
   "cell_type": "markdown",
   "id": "d4d890b3",
   "metadata": {},
   "source": [
    "### 1. Setup LLM (Ollama)"
   ]
  },
  {
   "cell_type": "code",
   "execution_count": null,
   "id": "e559b182",
   "metadata": {},
   "outputs": [
    {
     "name": "stdout",
     "output_type": "stream",
     "text": [
      "Hello there!\n"
     ]
    }
   ],
   "source": [
    "# Quick Check that LiteLLM + Ollama is working\n",
    "import os,litellm\n",
    "\n",
    "OLLAMA_BASE = os.getenv(\"OLLAMA_BASE\", \"http://localhost:11434\")\n",
    "\n",
    "resp = litellm.completion(\n",
    "    model=\"ollama/llama3.2\", \n",
    "    messages=[{\"role\":\"user\",\"content\":\"Say hello in 3 words.\"}],\n",
    "    api_base=OLLAMA_BASE \n",
    ")\n",
    "print(resp.choices[0].message.content)\n"
   ]
  },
  {
   "cell_type": "markdown",
   "id": "65176ef0",
   "metadata": {},
   "source": [
    ">Tip: Setting both base_url and api_base avoids version differences in CrewAI/LiteLLM."
   ]
  },
  {
   "cell_type": "code",
   "execution_count": 12,
   "id": "84904004",
   "metadata": {},
   "outputs": [
    {
     "name": "stdout",
     "output_type": "stream",
     "text": [
      "CrewAI LLM ready\n"
     ]
    }
   ],
   "source": [
    "from crewai import LLM\n",
    "\n",
    "OLLAMA_BASE = os.getenv(\"OLLAMA_BASE\", \"http://localhost:11434\")\n",
    "\n",
    "llm = LLM(\n",
    "    model=\"ollama/llama3.2\", \n",
    "    temperature=0.2,\n",
    "    max_tokens=512,\n",
    "    # Some crewAI versions read base_url, others api_base; set both to be safe:\n",
    "    base_url=OLLAMA_BASE,\n",
    "    api_base=OLLAMA_BASE,\n",
    ")\n",
    "print(\"CrewAI LLM ready\")\n"
   ]
  },
  {
   "cell_type": "markdown",
   "id": "c22ba8b1",
   "metadata": {},
   "source": [
    "### 2. Sample meeting transcript"
   ]
  },
  {
   "cell_type": "code",
   "execution_count": 13,
   "id": "f1d81a60",
   "metadata": {},
   "outputs": [
    {
     "name": "stdout",
     "output_type": "stream",
     "text": [
      "Loaded sample transcript.\n"
     ]
    }
   ],
   "source": [
    "MEETING_RAW_DOC = \"\"\"\n",
    "Meeting: Product Sync — Mobile App v2.1\n",
    "Date: 2025-09-24, 10:00–10:30\n",
    "Attendees: Alice (PM), Ben (Eng Lead), Chloe (Design), Dan (QA)\n",
    "\n",
    "Agenda:\n",
    "1) Onboarding funnel drop-offs\n",
    "2) Release v2.1 dates & scope\n",
    "3) Support load after v2.0\n",
    "\n",
    "Notes:\n",
    "- Ben: Crash rate after v2.0 hotfix is 0.18%, steady.\n",
    "- Chloe: New empty state mockups ready Friday.\n",
    "- Alice: We must improve Step 2 completion; propose shorter profile form.\n",
    "- Dan: Test coverage for payment edge cases at 76%. Needs more cases.\n",
    "\n",
    "Decisions:\n",
    "- Shorten onboarding Step 2 to a single screen (was 2). Target in v2.1.\n",
    "- Keep A/B test for copy on Step 1; no change this week.\n",
    "\n",
    "Action Items:\n",
    "- Ben: Implement Step 2 consolidation. Due: 2025-10-03.\n",
    "- Chloe: Share empty state assets to Eng. Due: 2025-09-26.\n",
    "- Dan: Add 5 edge-case tests for payments. Due: 2025-09-27.\n",
    "\n",
    "Risks:\n",
    "- Support backlog rising; Alice to re-check staffing by next week.\n",
    "\"\"\"\n",
    "print(\"Loaded sample transcript.\")\n"
   ]
  },
  {
   "cell_type": "markdown",
   "id": "95d289e8",
   "metadata": {},
   "source": [
    "### 3. Define Agents & Tasks (Extractor → Formatter)\n",
    "\n",
    "- Agent “Minute Taker”: extracts one JSON with a fixed schema.\n",
    "  - The Task description enforces “Return ONLY the JSON” to avoid extra text.\n",
    "\n",
    "- Agent “Minute Formatter”: converts JSON into Markdown (no commentary).\n",
    "  - The Task gives a section outline (Title/Date, Attendees, Agenda, …, Action Items table).\n",
    "\n",
    "- The Crew runs both tasks sequentially so the formatter receives the extractor’s output."
   ]
  },
  {
   "cell_type": "code",
   "execution_count": 14,
   "id": "83a9e4af",
   "metadata": {},
   "outputs": [],
   "source": [
    "from crewai import Agent, Task, Crew, Process\n",
    "\n",
    "MEETING_RAW = MEETING_RAW_DOC.strip()\n",
    "\n",
    "extractor = Agent(\n",
    "    role=\"Minute Taker\",\n",
    "    goal=\"Parse meeting transcripts into accurate, structured minutes.\",\n",
    "    backstory=\"You are precise and avoid hallucinations. If a field is missing, use 'UNKNOWN'.\",\n",
    "    llm=llm,\n",
    "    verbose=True,\n",
    ")\n",
    "\n",
    "formatter = Agent(\n",
    "    role=\"Minute Formatter\",\n",
    "    goal=\"Convert JSON data to Markdown format without any commentary or explanation\",\n",
    "    backstory=\"You output only the requested format. Never add explanations or meta-commentary.\",\n",
    "    llm=llm,\n",
    "    verbose=True,\n",
    ")\n",
    "\n",
    "task_extract = Task(\n",
    "    description=(\n",
    "        \"From the transcript below, extract a single JSON object with this schema:\\n\\n\"\n",
    "        \"{\\n\"\n",
    "        '  \"title\": str,\\n'\n",
    "        '  \"date\": str,\\n'\n",
    "        '  \"attendees\": [str],\\n'\n",
    "        '  \"agenda\": [str],\\n'\n",
    "        '  \"key_points\": [str],\\n'\n",
    "        '  \"decisions\": [str],\\n'\n",
    "        '  \"risks\": [str],\\n'\n",
    "        '  \"action_items\": [\\n'\n",
    "        '     {\"owner\": str, \"task\": str, \"due\": str, \"status\": \"OPEN\"}\\n'\n",
    "        \"  ]\\n\"\n",
    "        \"}\\n\\n\"\n",
    "        \"Rules:\\n\"\n",
    "        \"- Use ONLY information in the transcript.\\n\"\n",
    "        \"- If something is not stated, set to 'UNKNOWN' (or empty list for arrays).\\n\"\n",
    "        \"- Keep action item owners and due dates exactly as written if present.\\n\\n\"\n",
    "        f\"Transcript:\\n{MEETING_RAW}\\n\\n\"\n",
    "        \"Return ONLY the JSON (no explanation).\"\n",
    "    ),\n",
    "    expected_output=\"A single JSON object following the schema.\",\n",
    "    agent=extractor,\n",
    ")\n",
    "\n",
    "task_format = Task(\n",
    "    description=(\n",
    "        \"You are given a JSON of structured minutes (from the previous task). \"\n",
    "        \"Create a concise Markdown report with sections:\\n\"\n",
    "        \"1) Title & Date\\n\"\n",
    "        \"2) Attendees (comma-separated)\\n\"\n",
    "        \"3) Agenda (bullets)\\n\"\n",
    "        \"4) Key Points (bullets)\\n\"\n",
    "        \"5) Decisions (bullets)\\n\"\n",
    "        \"6) Risks (bullets)\\n\"\n",
    "        \"7) Action Items (table: Owner | Task | Due | Status)\\n\\n\"\n",
    "        \"Rules:\\n- Do not invent content; use JSON fields as-is.\\n- Keep it compact and readable.\"\n",
    "    ),\n",
    "    expected_output=\"A Markdown document.\",\n",
    "    agent=formatter,\n",
    "    context=[task_extract],\n",
    ")\n",
    "\n",
    "crew = Crew(\n",
    "    agents=[extractor, formatter],\n",
    "    tasks=[task_extract, task_format],\n",
    "    process=Process.sequential,\n",
    "    verbose=True, \n",
    ")\n"
   ]
  },
  {
   "cell_type": "markdown",
   "id": "8b727f21",
   "metadata": {},
   "source": [
    "### 4. Run the Workflow"
   ]
  },
  {
   "cell_type": "code",
   "execution_count": 15,
   "id": "83cc473b",
   "metadata": {},
   "outputs": [
    {
     "data": {
      "text/html": [
       "<pre style=\"white-space:pre;overflow-x:auto;line-height:normal;font-family:Menlo,'DejaVu Sans Mono',consolas,'Courier New',monospace\"><span style=\"color: #008080; text-decoration-color: #008080\">╭──────────────────────────────────────────── Crew Execution Started ─────────────────────────────────────────────╮</span>\n",
       "<span style=\"color: #008080; text-decoration-color: #008080\">│</span>                                                                                                                 <span style=\"color: #008080; text-decoration-color: #008080\">│</span>\n",
       "<span style=\"color: #008080; text-decoration-color: #008080\">│</span>  <span style=\"color: #008080; text-decoration-color: #008080; font-weight: bold\">Crew Execution Started</span>                                                                                         <span style=\"color: #008080; text-decoration-color: #008080\">│</span>\n",
       "<span style=\"color: #008080; text-decoration-color: #008080\">│</span>  <span style=\"color: #c0c0c0; text-decoration-color: #c0c0c0\">Name: </span><span style=\"color: #008080; text-decoration-color: #008080\">crew</span>                                                                                                     <span style=\"color: #008080; text-decoration-color: #008080\">│</span>\n",
       "<span style=\"color: #008080; text-decoration-color: #008080\">│</span>  <span style=\"color: #c0c0c0; text-decoration-color: #c0c0c0\">ID: </span><span style=\"color: #008080; text-decoration-color: #008080\">bd730eb4-f908-4aca-b648-c30e51eee555</span>                                                                       <span style=\"color: #008080; text-decoration-color: #008080\">│</span>\n",
       "<span style=\"color: #008080; text-decoration-color: #008080\">│</span>  <span style=\"color: #c0c0c0; text-decoration-color: #c0c0c0\">Tool Args: </span>                                                                                                    <span style=\"color: #008080; text-decoration-color: #008080\">│</span>\n",
       "<span style=\"color: #008080; text-decoration-color: #008080\">│</span>                                                                                                                 <span style=\"color: #008080; text-decoration-color: #008080\">│</span>\n",
       "<span style=\"color: #008080; text-decoration-color: #008080\">│</span>                                                                                                                 <span style=\"color: #008080; text-decoration-color: #008080\">│</span>\n",
       "<span style=\"color: #008080; text-decoration-color: #008080\">╰─────────────────────────────────────────────────────────────────────────────────────────────────────────────────╯</span>\n",
       "</pre>\n"
      ],
      "text/plain": [
       "\u001b[36m╭─\u001b[0m\u001b[36m───────────────────────────────────────────\u001b[0m\u001b[36m Crew Execution Started \u001b[0m\u001b[36m────────────────────────────────────────────\u001b[0m\u001b[36m─╮\u001b[0m\n",
       "\u001b[36m│\u001b[0m                                                                                                                 \u001b[36m│\u001b[0m\n",
       "\u001b[36m│\u001b[0m  \u001b[1;36mCrew Execution Started\u001b[0m                                                                                         \u001b[36m│\u001b[0m\n",
       "\u001b[36m│\u001b[0m  \u001b[37mName: \u001b[0m\u001b[36mcrew\u001b[0m                                                                                                     \u001b[36m│\u001b[0m\n",
       "\u001b[36m│\u001b[0m  \u001b[37mID: \u001b[0m\u001b[36mbd730eb4-f908-4aca-b648-c30e51eee555\u001b[0m                                                                       \u001b[36m│\u001b[0m\n",
       "\u001b[36m│\u001b[0m  \u001b[37mTool Args: \u001b[0m                                                                                                    \u001b[36m│\u001b[0m\n",
       "\u001b[36m│\u001b[0m                                                                                                                 \u001b[36m│\u001b[0m\n",
       "\u001b[36m│\u001b[0m                                                                                                                 \u001b[36m│\u001b[0m\n",
       "\u001b[36m╰─────────────────────────────────────────────────────────────────────────────────────────────────────────────────╯\u001b[0m\n"
      ]
     },
     "metadata": {},
     "output_type": "display_data"
    },
    {
     "data": {
      "text/html": [
       "<pre style=\"white-space:pre;overflow-x:auto;line-height:normal;font-family:Menlo,'DejaVu Sans Mono',consolas,'Courier New',monospace\">\n",
       "</pre>\n"
      ],
      "text/plain": [
       "\n"
      ]
     },
     "metadata": {},
     "output_type": "display_data"
    },
    {
     "data": {
      "text/html": [
       "<pre style=\"white-space:pre;overflow-x:auto;line-height:normal;font-family:Menlo,'DejaVu Sans Mono',consolas,'Courier New',monospace\"></pre>\n"
      ],
      "text/plain": []
     },
     "metadata": {},
     "output_type": "display_data"
    },
    {
     "data": {
      "text/html": [
       "<pre style=\"white-space:pre;overflow-x:auto;line-height:normal;font-family:Menlo,'DejaVu Sans Mono',consolas,'Courier New',monospace\"><span style=\"color: #800080; text-decoration-color: #800080\">╭─────────────────────────────────────────────── 🤖 Agent Started ────────────────────────────────────────────────╮</span>\n",
       "<span style=\"color: #800080; text-decoration-color: #800080\">│</span>                                                                                                                 <span style=\"color: #800080; text-decoration-color: #800080\">│</span>\n",
       "<span style=\"color: #800080; text-decoration-color: #800080\">│</span>  <span style=\"color: #c0c0c0; text-decoration-color: #c0c0c0\">Agent: </span><span style=\"color: #00ff00; text-decoration-color: #00ff00; font-weight: bold\">Minute Taker</span>                                                                                            <span style=\"color: #800080; text-decoration-color: #800080\">│</span>\n",
       "<span style=\"color: #800080; text-decoration-color: #800080\">│</span>                                                                                                                 <span style=\"color: #800080; text-decoration-color: #800080\">│</span>\n",
       "<span style=\"color: #800080; text-decoration-color: #800080\">│</span>  <span style=\"color: #c0c0c0; text-decoration-color: #c0c0c0\">Task: </span><span style=\"color: #00ff00; text-decoration-color: #00ff00\">From the transcript below, extract a single JSON object with this schema:</span>                                <span style=\"color: #800080; text-decoration-color: #800080\">│</span>\n",
       "<span style=\"color: #800080; text-decoration-color: #800080\">│</span>                                                                                                                 <span style=\"color: #800080; text-decoration-color: #800080\">│</span>\n",
       "<span style=\"color: #800080; text-decoration-color: #800080\">│</span>  <span style=\"color: #00ff00; text-decoration-color: #00ff00\">{</span>                                                                                                              <span style=\"color: #800080; text-decoration-color: #800080\">│</span>\n",
       "<span style=\"color: #800080; text-decoration-color: #800080\">│</span>  <span style=\"color: #00ff00; text-decoration-color: #00ff00\">  \"title\": str,</span>                                                                                                <span style=\"color: #800080; text-decoration-color: #800080\">│</span>\n",
       "<span style=\"color: #800080; text-decoration-color: #800080\">│</span>  <span style=\"color: #00ff00; text-decoration-color: #00ff00\">  \"date\": str,</span>                                                                                                 <span style=\"color: #800080; text-decoration-color: #800080\">│</span>\n",
       "<span style=\"color: #800080; text-decoration-color: #800080\">│</span>  <span style=\"color: #00ff00; text-decoration-color: #00ff00\">  \"attendees\": [str],</span>                                                                                          <span style=\"color: #800080; text-decoration-color: #800080\">│</span>\n",
       "<span style=\"color: #800080; text-decoration-color: #800080\">│</span>  <span style=\"color: #00ff00; text-decoration-color: #00ff00\">  \"agenda\": [str],</span>                                                                                             <span style=\"color: #800080; text-decoration-color: #800080\">│</span>\n",
       "<span style=\"color: #800080; text-decoration-color: #800080\">│</span>  <span style=\"color: #00ff00; text-decoration-color: #00ff00\">  \"key_points\": [str],</span>                                                                                         <span style=\"color: #800080; text-decoration-color: #800080\">│</span>\n",
       "<span style=\"color: #800080; text-decoration-color: #800080\">│</span>  <span style=\"color: #00ff00; text-decoration-color: #00ff00\">  \"decisions\": [str],</span>                                                                                          <span style=\"color: #800080; text-decoration-color: #800080\">│</span>\n",
       "<span style=\"color: #800080; text-decoration-color: #800080\">│</span>  <span style=\"color: #00ff00; text-decoration-color: #00ff00\">  \"risks\": [str],</span>                                                                                              <span style=\"color: #800080; text-decoration-color: #800080\">│</span>\n",
       "<span style=\"color: #800080; text-decoration-color: #800080\">│</span>  <span style=\"color: #00ff00; text-decoration-color: #00ff00\">  \"action_items\": [</span>                                                                                            <span style=\"color: #800080; text-decoration-color: #800080\">│</span>\n",
       "<span style=\"color: #800080; text-decoration-color: #800080\">│</span>  <span style=\"color: #00ff00; text-decoration-color: #00ff00\">     {\"owner\": str, \"task\": str, \"due\": str, \"status\": \"OPEN\"}</span>                                                 <span style=\"color: #800080; text-decoration-color: #800080\">│</span>\n",
       "<span style=\"color: #800080; text-decoration-color: #800080\">│</span>  <span style=\"color: #00ff00; text-decoration-color: #00ff00\">  ]</span>                                                                                                            <span style=\"color: #800080; text-decoration-color: #800080\">│</span>\n",
       "<span style=\"color: #800080; text-decoration-color: #800080\">│</span>  <span style=\"color: #00ff00; text-decoration-color: #00ff00\">}</span>                                                                                                              <span style=\"color: #800080; text-decoration-color: #800080\">│</span>\n",
       "<span style=\"color: #800080; text-decoration-color: #800080\">│</span>                                                                                                                 <span style=\"color: #800080; text-decoration-color: #800080\">│</span>\n",
       "<span style=\"color: #800080; text-decoration-color: #800080\">│</span>  <span style=\"color: #00ff00; text-decoration-color: #00ff00\">Rules:</span>                                                                                                         <span style=\"color: #800080; text-decoration-color: #800080\">│</span>\n",
       "<span style=\"color: #800080; text-decoration-color: #800080\">│</span>  <span style=\"color: #00ff00; text-decoration-color: #00ff00\">- Use ONLY information in the transcript.</span>                                                                      <span style=\"color: #800080; text-decoration-color: #800080\">│</span>\n",
       "<span style=\"color: #800080; text-decoration-color: #800080\">│</span>  <span style=\"color: #00ff00; text-decoration-color: #00ff00\">- If something is not stated, set to 'UNKNOWN' (or empty list for arrays).</span>                                     <span style=\"color: #800080; text-decoration-color: #800080\">│</span>\n",
       "<span style=\"color: #800080; text-decoration-color: #800080\">│</span>  <span style=\"color: #00ff00; text-decoration-color: #00ff00\">- Keep action item owners and due dates exactly as written if present.</span>                                         <span style=\"color: #800080; text-decoration-color: #800080\">│</span>\n",
       "<span style=\"color: #800080; text-decoration-color: #800080\">│</span>                                                                                                                 <span style=\"color: #800080; text-decoration-color: #800080\">│</span>\n",
       "<span style=\"color: #800080; text-decoration-color: #800080\">│</span>  <span style=\"color: #00ff00; text-decoration-color: #00ff00\">Transcript:</span>                                                                                                    <span style=\"color: #800080; text-decoration-color: #800080\">│</span>\n",
       "<span style=\"color: #800080; text-decoration-color: #800080\">│</span>  <span style=\"color: #00ff00; text-decoration-color: #00ff00\">Meeting: Product Sync — Mobile App v2.1</span>                                                                        <span style=\"color: #800080; text-decoration-color: #800080\">│</span>\n",
       "<span style=\"color: #800080; text-decoration-color: #800080\">│</span>  <span style=\"color: #00ff00; text-decoration-color: #00ff00\">Date: 2025-09-24, 10:00–10:30</span>                                                                                  <span style=\"color: #800080; text-decoration-color: #800080\">│</span>\n",
       "<span style=\"color: #800080; text-decoration-color: #800080\">│</span>  <span style=\"color: #00ff00; text-decoration-color: #00ff00\">Attendees: Alice (PM), Ben (Eng Lead), Chloe (Design), Dan (QA)</span>                                                <span style=\"color: #800080; text-decoration-color: #800080\">│</span>\n",
       "<span style=\"color: #800080; text-decoration-color: #800080\">│</span>                                                                                                                 <span style=\"color: #800080; text-decoration-color: #800080\">│</span>\n",
       "<span style=\"color: #800080; text-decoration-color: #800080\">│</span>  <span style=\"color: #00ff00; text-decoration-color: #00ff00\">Agenda:</span>                                                                                                        <span style=\"color: #800080; text-decoration-color: #800080\">│</span>\n",
       "<span style=\"color: #800080; text-decoration-color: #800080\">│</span>  <span style=\"color: #00ff00; text-decoration-color: #00ff00\">1) Onboarding funnel drop-offs</span>                                                                                 <span style=\"color: #800080; text-decoration-color: #800080\">│</span>\n",
       "<span style=\"color: #800080; text-decoration-color: #800080\">│</span>  <span style=\"color: #00ff00; text-decoration-color: #00ff00\">2) Release v2.1 dates &amp; scope</span>                                                                                  <span style=\"color: #800080; text-decoration-color: #800080\">│</span>\n",
       "<span style=\"color: #800080; text-decoration-color: #800080\">│</span>  <span style=\"color: #00ff00; text-decoration-color: #00ff00\">3) Support load after v2.0</span>                                                                                     <span style=\"color: #800080; text-decoration-color: #800080\">│</span>\n",
       "<span style=\"color: #800080; text-decoration-color: #800080\">│</span>                                                                                                                 <span style=\"color: #800080; text-decoration-color: #800080\">│</span>\n",
       "<span style=\"color: #800080; text-decoration-color: #800080\">│</span>  <span style=\"color: #00ff00; text-decoration-color: #00ff00\">Notes:</span>                                                                                                         <span style=\"color: #800080; text-decoration-color: #800080\">│</span>\n",
       "<span style=\"color: #800080; text-decoration-color: #800080\">│</span>  <span style=\"color: #00ff00; text-decoration-color: #00ff00\">- Ben: Crash rate after v2.0 hotfix is 0.18%, steady.</span>                                                          <span style=\"color: #800080; text-decoration-color: #800080\">│</span>\n",
       "<span style=\"color: #800080; text-decoration-color: #800080\">│</span>  <span style=\"color: #00ff00; text-decoration-color: #00ff00\">- Chloe: New empty state mockups ready Friday.</span>                                                                 <span style=\"color: #800080; text-decoration-color: #800080\">│</span>\n",
       "<span style=\"color: #800080; text-decoration-color: #800080\">│</span>  <span style=\"color: #00ff00; text-decoration-color: #00ff00\">- Alice: We must improve Step 2 completion; propose shorter profile form.</span>                                      <span style=\"color: #800080; text-decoration-color: #800080\">│</span>\n",
       "<span style=\"color: #800080; text-decoration-color: #800080\">│</span>  <span style=\"color: #00ff00; text-decoration-color: #00ff00\">- Dan: Test coverage for payment edge cases at 76%. Needs more cases.</span>                                          <span style=\"color: #800080; text-decoration-color: #800080\">│</span>\n",
       "<span style=\"color: #800080; text-decoration-color: #800080\">│</span>                                                                                                                 <span style=\"color: #800080; text-decoration-color: #800080\">│</span>\n",
       "<span style=\"color: #800080; text-decoration-color: #800080\">│</span>  <span style=\"color: #00ff00; text-decoration-color: #00ff00\">Decisions:</span>                                                                                                     <span style=\"color: #800080; text-decoration-color: #800080\">│</span>\n",
       "<span style=\"color: #800080; text-decoration-color: #800080\">│</span>  <span style=\"color: #00ff00; text-decoration-color: #00ff00\">- Shorten onboarding Step 2 to a single screen (was 2). Target in v2.1.</span>                                        <span style=\"color: #800080; text-decoration-color: #800080\">│</span>\n",
       "<span style=\"color: #800080; text-decoration-color: #800080\">│</span>  <span style=\"color: #00ff00; text-decoration-color: #00ff00\">- Keep A/B test for copy on Step 1; no change this week.</span>                                                       <span style=\"color: #800080; text-decoration-color: #800080\">│</span>\n",
       "<span style=\"color: #800080; text-decoration-color: #800080\">│</span>                                                                                                                 <span style=\"color: #800080; text-decoration-color: #800080\">│</span>\n",
       "<span style=\"color: #800080; text-decoration-color: #800080\">│</span>  <span style=\"color: #00ff00; text-decoration-color: #00ff00\">Action Items:</span>                                                                                                  <span style=\"color: #800080; text-decoration-color: #800080\">│</span>\n",
       "<span style=\"color: #800080; text-decoration-color: #800080\">│</span>  <span style=\"color: #00ff00; text-decoration-color: #00ff00\">- Ben: Implement Step 2 consolidation. Due: 2025-10-03.</span>                                                        <span style=\"color: #800080; text-decoration-color: #800080\">│</span>\n",
       "<span style=\"color: #800080; text-decoration-color: #800080\">│</span>  <span style=\"color: #00ff00; text-decoration-color: #00ff00\">- Chloe: Share empty state assets to Eng. Due: 2025-09-26.</span>                                                     <span style=\"color: #800080; text-decoration-color: #800080\">│</span>\n",
       "<span style=\"color: #800080; text-decoration-color: #800080\">│</span>  <span style=\"color: #00ff00; text-decoration-color: #00ff00\">- Dan: Add 5 edge-case tests for payments. Due: 2025-09-27.</span>                                                    <span style=\"color: #800080; text-decoration-color: #800080\">│</span>\n",
       "<span style=\"color: #800080; text-decoration-color: #800080\">│</span>                                                                                                                 <span style=\"color: #800080; text-decoration-color: #800080\">│</span>\n",
       "<span style=\"color: #800080; text-decoration-color: #800080\">│</span>  <span style=\"color: #00ff00; text-decoration-color: #00ff00\">Risks:</span>                                                                                                         <span style=\"color: #800080; text-decoration-color: #800080\">│</span>\n",
       "<span style=\"color: #800080; text-decoration-color: #800080\">│</span>  <span style=\"color: #00ff00; text-decoration-color: #00ff00\">- Support backlog rising; Alice to re-check staffing by next week.</span>                                             <span style=\"color: #800080; text-decoration-color: #800080\">│</span>\n",
       "<span style=\"color: #800080; text-decoration-color: #800080\">│</span>                                                                                                                 <span style=\"color: #800080; text-decoration-color: #800080\">│</span>\n",
       "<span style=\"color: #800080; text-decoration-color: #800080\">│</span>  <span style=\"color: #00ff00; text-decoration-color: #00ff00\">Return ONLY the JSON (no explanation).</span>                                                                         <span style=\"color: #800080; text-decoration-color: #800080\">│</span>\n",
       "<span style=\"color: #800080; text-decoration-color: #800080\">│</span>                                                                                                                 <span style=\"color: #800080; text-decoration-color: #800080\">│</span>\n",
       "<span style=\"color: #800080; text-decoration-color: #800080\">╰─────────────────────────────────────────────────────────────────────────────────────────────────────────────────╯</span>\n",
       "</pre>\n"
      ],
      "text/plain": [
       "\u001b[35m╭─\u001b[0m\u001b[35m──────────────────────────────────────────────\u001b[0m\u001b[35m 🤖 Agent Started \u001b[0m\u001b[35m───────────────────────────────────────────────\u001b[0m\u001b[35m─╮\u001b[0m\n",
       "\u001b[35m│\u001b[0m                                                                                                                 \u001b[35m│\u001b[0m\n",
       "\u001b[35m│\u001b[0m  \u001b[37mAgent: \u001b[0m\u001b[1;92mMinute Taker\u001b[0m                                                                                            \u001b[35m│\u001b[0m\n",
       "\u001b[35m│\u001b[0m                                                                                                                 \u001b[35m│\u001b[0m\n",
       "\u001b[35m│\u001b[0m  \u001b[37mTask: \u001b[0m\u001b[92mFrom the transcript below, extract a single JSON object with this schema:\u001b[0m                                \u001b[35m│\u001b[0m\n",
       "\u001b[35m│\u001b[0m                                                                                                                 \u001b[35m│\u001b[0m\n",
       "\u001b[35m│\u001b[0m  \u001b[92m{\u001b[0m                                                                                                              \u001b[35m│\u001b[0m\n",
       "\u001b[35m│\u001b[0m  \u001b[92m  \"title\": str,\u001b[0m                                                                                                \u001b[35m│\u001b[0m\n",
       "\u001b[35m│\u001b[0m  \u001b[92m  \"date\": str,\u001b[0m                                                                                                 \u001b[35m│\u001b[0m\n",
       "\u001b[35m│\u001b[0m  \u001b[92m  \"attendees\": [str],\u001b[0m                                                                                          \u001b[35m│\u001b[0m\n",
       "\u001b[35m│\u001b[0m  \u001b[92m  \"agenda\": [str],\u001b[0m                                                                                             \u001b[35m│\u001b[0m\n",
       "\u001b[35m│\u001b[0m  \u001b[92m  \"key_points\": [str],\u001b[0m                                                                                         \u001b[35m│\u001b[0m\n",
       "\u001b[35m│\u001b[0m  \u001b[92m  \"decisions\": [str],\u001b[0m                                                                                          \u001b[35m│\u001b[0m\n",
       "\u001b[35m│\u001b[0m  \u001b[92m  \"risks\": [str],\u001b[0m                                                                                              \u001b[35m│\u001b[0m\n",
       "\u001b[35m│\u001b[0m  \u001b[92m  \"action_items\": [\u001b[0m                                                                                            \u001b[35m│\u001b[0m\n",
       "\u001b[35m│\u001b[0m  \u001b[92m     {\"owner\": str, \"task\": str, \"due\": str, \"status\": \"OPEN\"}\u001b[0m                                                 \u001b[35m│\u001b[0m\n",
       "\u001b[35m│\u001b[0m  \u001b[92m  ]\u001b[0m                                                                                                            \u001b[35m│\u001b[0m\n",
       "\u001b[35m│\u001b[0m  \u001b[92m}\u001b[0m                                                                                                              \u001b[35m│\u001b[0m\n",
       "\u001b[35m│\u001b[0m                                                                                                                 \u001b[35m│\u001b[0m\n",
       "\u001b[35m│\u001b[0m  \u001b[92mRules:\u001b[0m                                                                                                         \u001b[35m│\u001b[0m\n",
       "\u001b[35m│\u001b[0m  \u001b[92m- Use ONLY information in the transcript.\u001b[0m                                                                      \u001b[35m│\u001b[0m\n",
       "\u001b[35m│\u001b[0m  \u001b[92m- If something is not stated, set to 'UNKNOWN' (or empty list for arrays).\u001b[0m                                     \u001b[35m│\u001b[0m\n",
       "\u001b[35m│\u001b[0m  \u001b[92m- Keep action item owners and due dates exactly as written if present.\u001b[0m                                         \u001b[35m│\u001b[0m\n",
       "\u001b[35m│\u001b[0m                                                                                                                 \u001b[35m│\u001b[0m\n",
       "\u001b[35m│\u001b[0m  \u001b[92mTranscript:\u001b[0m                                                                                                    \u001b[35m│\u001b[0m\n",
       "\u001b[35m│\u001b[0m  \u001b[92mMeeting: Product Sync — Mobile App v2.1\u001b[0m                                                                        \u001b[35m│\u001b[0m\n",
       "\u001b[35m│\u001b[0m  \u001b[92mDate: 2025-09-24, 10:00–10:30\u001b[0m                                                                                  \u001b[35m│\u001b[0m\n",
       "\u001b[35m│\u001b[0m  \u001b[92mAttendees: Alice (PM), Ben (Eng Lead), Chloe (Design), Dan (QA)\u001b[0m                                                \u001b[35m│\u001b[0m\n",
       "\u001b[35m│\u001b[0m                                                                                                                 \u001b[35m│\u001b[0m\n",
       "\u001b[35m│\u001b[0m  \u001b[92mAgenda:\u001b[0m                                                                                                        \u001b[35m│\u001b[0m\n",
       "\u001b[35m│\u001b[0m  \u001b[92m1) Onboarding funnel drop-offs\u001b[0m                                                                                 \u001b[35m│\u001b[0m\n",
       "\u001b[35m│\u001b[0m  \u001b[92m2) Release v2.1 dates & scope\u001b[0m                                                                                  \u001b[35m│\u001b[0m\n",
       "\u001b[35m│\u001b[0m  \u001b[92m3) Support load after v2.0\u001b[0m                                                                                     \u001b[35m│\u001b[0m\n",
       "\u001b[35m│\u001b[0m                                                                                                                 \u001b[35m│\u001b[0m\n",
       "\u001b[35m│\u001b[0m  \u001b[92mNotes:\u001b[0m                                                                                                         \u001b[35m│\u001b[0m\n",
       "\u001b[35m│\u001b[0m  \u001b[92m- Ben: Crash rate after v2.0 hotfix is 0.18%, steady.\u001b[0m                                                          \u001b[35m│\u001b[0m\n",
       "\u001b[35m│\u001b[0m  \u001b[92m- Chloe: New empty state mockups ready Friday.\u001b[0m                                                                 \u001b[35m│\u001b[0m\n",
       "\u001b[35m│\u001b[0m  \u001b[92m- Alice: We must improve Step 2 completion; propose shorter profile form.\u001b[0m                                      \u001b[35m│\u001b[0m\n",
       "\u001b[35m│\u001b[0m  \u001b[92m- Dan: Test coverage for payment edge cases at 76%. Needs more cases.\u001b[0m                                          \u001b[35m│\u001b[0m\n",
       "\u001b[35m│\u001b[0m                                                                                                                 \u001b[35m│\u001b[0m\n",
       "\u001b[35m│\u001b[0m  \u001b[92mDecisions:\u001b[0m                                                                                                     \u001b[35m│\u001b[0m\n",
       "\u001b[35m│\u001b[0m  \u001b[92m- Shorten onboarding Step 2 to a single screen (was 2). Target in v2.1.\u001b[0m                                        \u001b[35m│\u001b[0m\n",
       "\u001b[35m│\u001b[0m  \u001b[92m- Keep A/B test for copy on Step 1; no change this week.\u001b[0m                                                       \u001b[35m│\u001b[0m\n",
       "\u001b[35m│\u001b[0m                                                                                                                 \u001b[35m│\u001b[0m\n",
       "\u001b[35m│\u001b[0m  \u001b[92mAction Items:\u001b[0m                                                                                                  \u001b[35m│\u001b[0m\n",
       "\u001b[35m│\u001b[0m  \u001b[92m- Ben: Implement Step 2 consolidation. Due: 2025-10-03.\u001b[0m                                                        \u001b[35m│\u001b[0m\n",
       "\u001b[35m│\u001b[0m  \u001b[92m- Chloe: Share empty state assets to Eng. Due: 2025-09-26.\u001b[0m                                                     \u001b[35m│\u001b[0m\n",
       "\u001b[35m│\u001b[0m  \u001b[92m- Dan: Add 5 edge-case tests for payments. Due: 2025-09-27.\u001b[0m                                                    \u001b[35m│\u001b[0m\n",
       "\u001b[35m│\u001b[0m                                                                                                                 \u001b[35m│\u001b[0m\n",
       "\u001b[35m│\u001b[0m  \u001b[92mRisks:\u001b[0m                                                                                                         \u001b[35m│\u001b[0m\n",
       "\u001b[35m│\u001b[0m  \u001b[92m- Support backlog rising; Alice to re-check staffing by next week.\u001b[0m                                             \u001b[35m│\u001b[0m\n",
       "\u001b[35m│\u001b[0m                                                                                                                 \u001b[35m│\u001b[0m\n",
       "\u001b[35m│\u001b[0m  \u001b[92mReturn ONLY the JSON (no explanation).\u001b[0m                                                                         \u001b[35m│\u001b[0m\n",
       "\u001b[35m│\u001b[0m                                                                                                                 \u001b[35m│\u001b[0m\n",
       "\u001b[35m╰─────────────────────────────────────────────────────────────────────────────────────────────────────────────────╯\u001b[0m\n"
      ]
     },
     "metadata": {},
     "output_type": "display_data"
    },
    {
     "data": {
      "text/html": [
       "<pre style=\"white-space:pre;overflow-x:auto;line-height:normal;font-family:Menlo,'DejaVu Sans Mono',consolas,'Courier New',monospace\">\n",
       "</pre>\n"
      ],
      "text/plain": [
       "\n"
      ]
     },
     "metadata": {},
     "output_type": "display_data"
    },
    {
     "data": {
      "application/vnd.jupyter.widget-view+json": {
       "model_id": "1d81c4bdb9cd425b88476305e24cde31",
       "version_major": 2,
       "version_minor": 0
      },
      "text/plain": [
       "Output()"
      ]
     },
     "metadata": {},
     "output_type": "display_data"
    },
    {
     "data": {
      "text/html": [
       "<pre style=\"white-space:pre;overflow-x:auto;line-height:normal;font-family:Menlo,'DejaVu Sans Mono',consolas,'Courier New',monospace\"></pre>\n"
      ],
      "text/plain": []
     },
     "metadata": {},
     "output_type": "display_data"
    },
    {
     "data": {
      "text/html": [
       "<pre style=\"white-space:pre;overflow-x:auto;line-height:normal;font-family:Menlo,'DejaVu Sans Mono',consolas,'Courier New',monospace\"><span style=\"color: #008000; text-decoration-color: #008000\">╭───────────────────────────────────────────── ✅ Agent Final Answer ─────────────────────────────────────────────╮</span>\n",
       "<span style=\"color: #008000; text-decoration-color: #008000\">│</span>                                                                                                                 <span style=\"color: #008000; text-decoration-color: #008000\">│</span>\n",
       "<span style=\"color: #008000; text-decoration-color: #008000\">│</span>  <span style=\"color: #c0c0c0; text-decoration-color: #c0c0c0\">Agent: </span><span style=\"color: #00ff00; text-decoration-color: #00ff00; font-weight: bold\">Minute Taker</span>                                                                                            <span style=\"color: #008000; text-decoration-color: #008000\">│</span>\n",
       "<span style=\"color: #008000; text-decoration-color: #008000\">│</span>                                                                                                                 <span style=\"color: #008000; text-decoration-color: #008000\">│</span>\n",
       "<span style=\"color: #008000; text-decoration-color: #008000\">│</span>  <span style=\"color: #c0c0c0; text-decoration-color: #c0c0c0\">Final Answer:</span>                                                                                                  <span style=\"color: #008000; text-decoration-color: #008000\">│</span>\n",
       "<span style=\"color: #008000; text-decoration-color: #008000\">│</span>  <span style=\"color: #00ff00; text-decoration-color: #00ff00\">{\"title\": \"Product Sync — Mobile App v2.1\", \"date\": \"2025-09-24, 10:00–10:30\", \"attendees\": [\"Alice (PM)\", </span>    <span style=\"color: #008000; text-decoration-color: #008000\">│</span>\n",
       "<span style=\"color: #008000; text-decoration-color: #008000\">│</span>  <span style=\"color: #00ff00; text-decoration-color: #00ff00\">\"Ben (Eng Lead)\", \"Chloe (Design)\", \"Dan (QA)\"], \"agenda\": [\"Onboarding funnel drop-offs\", \"Release v2.1 </span>      <span style=\"color: #008000; text-decoration-color: #008000\">│</span>\n",
       "<span style=\"color: #008000; text-decoration-color: #008000\">│</span>  <span style=\"color: #00ff00; text-decoration-color: #00ff00\">dates &amp; scope\", \"Support load after v2.0\"], \"key_points\": [\"Crash rate after v2.0 hotfix is 0.18%\", \"New </span>      <span style=\"color: #008000; text-decoration-color: #008000\">│</span>\n",
       "<span style=\"color: #008000; text-decoration-color: #008000\">│</span>  <span style=\"color: #00ff00; text-decoration-color: #00ff00\">empty state mockups ready Friday\", \"We must improve Step 2 completion; propose shorter profile form\", \"Test </span>   <span style=\"color: #008000; text-decoration-color: #008000\">│</span>\n",
       "<span style=\"color: #008000; text-decoration-color: #008000\">│</span>  <span style=\"color: #00ff00; text-decoration-color: #00ff00\">coverage for payment edge cases at 76%. Needs more cases.\"], \"decisions\": [\"Shorten onboarding Step 2 to a </span>    <span style=\"color: #008000; text-decoration-color: #008000\">│</span>\n",
       "<span style=\"color: #008000; text-decoration-color: #008000\">│</span>  <span style=\"color: #00ff00; text-decoration-color: #00ff00\">single screen (was 2). Target in v2.1.\", \"Keep A/B test for copy on Step 1; no change this week.\"], \"risks\": </span>  <span style=\"color: #008000; text-decoration-color: #008000\">│</span>\n",
       "<span style=\"color: #008000; text-decoration-color: #008000\">│</span>  <span style=\"color: #00ff00; text-decoration-color: #00ff00\">[\"Support backlog rising; Alice to re-check staffing by next week.\"], \"action_items\": [{\"owner\": \"Ben\", </span>       <span style=\"color: #008000; text-decoration-color: #008000\">│</span>\n",
       "<span style=\"color: #008000; text-decoration-color: #008000\">│</span>  <span style=\"color: #00ff00; text-decoration-color: #00ff00\">\"task\": \"Implement Step 2 consolidation\", \"due\": \"2025-10-03\"}, {\"owner\": \"Chloe\", \"task\": \"Share empty state</span>  <span style=\"color: #008000; text-decoration-color: #008000\">│</span>\n",
       "<span style=\"color: #008000; text-decoration-color: #008000\">│</span>  <span style=\"color: #00ff00; text-decoration-color: #00ff00\">assets to Eng\", \"due\": \"2025-09-26\"}, {\"owner\": \"Dan\", \"task\": \"Add 5 edge-case tests for payments\", \"due\": </span>   <span style=\"color: #008000; text-decoration-color: #008000\">│</span>\n",
       "<span style=\"color: #008000; text-decoration-color: #008000\">│</span>  <span style=\"color: #00ff00; text-decoration-color: #00ff00\">\"2025-09-27\"}]}</span>                                                                                                <span style=\"color: #008000; text-decoration-color: #008000\">│</span>\n",
       "<span style=\"color: #008000; text-decoration-color: #008000\">│</span>                                                                                                                 <span style=\"color: #008000; text-decoration-color: #008000\">│</span>\n",
       "<span style=\"color: #008000; text-decoration-color: #008000\">╰─────────────────────────────────────────────────────────────────────────────────────────────────────────────────╯</span>\n",
       "</pre>\n"
      ],
      "text/plain": [
       "\u001b[32m╭─\u001b[0m\u001b[32m────────────────────────────────────────────\u001b[0m\u001b[32m ✅ Agent Final Answer \u001b[0m\u001b[32m────────────────────────────────────────────\u001b[0m\u001b[32m─╮\u001b[0m\n",
       "\u001b[32m│\u001b[0m                                                                                                                 \u001b[32m│\u001b[0m\n",
       "\u001b[32m│\u001b[0m  \u001b[37mAgent: \u001b[0m\u001b[1;92mMinute Taker\u001b[0m                                                                                            \u001b[32m│\u001b[0m\n",
       "\u001b[32m│\u001b[0m                                                                                                                 \u001b[32m│\u001b[0m\n",
       "\u001b[32m│\u001b[0m  \u001b[37mFinal Answer:\u001b[0m                                                                                                  \u001b[32m│\u001b[0m\n",
       "\u001b[32m│\u001b[0m  \u001b[92m{\"title\": \"Product Sync — Mobile App v2.1\", \"date\": \"2025-09-24, 10:00–10:30\", \"attendees\": [\"Alice (PM)\", \u001b[0m    \u001b[32m│\u001b[0m\n",
       "\u001b[32m│\u001b[0m  \u001b[92m\"Ben (Eng Lead)\", \"Chloe (Design)\", \"Dan (QA)\"], \"agenda\": [\"Onboarding funnel drop-offs\", \"Release v2.1 \u001b[0m      \u001b[32m│\u001b[0m\n",
       "\u001b[32m│\u001b[0m  \u001b[92mdates & scope\", \"Support load after v2.0\"], \"key_points\": [\"Crash rate after v2.0 hotfix is 0.18%\", \"New \u001b[0m      \u001b[32m│\u001b[0m\n",
       "\u001b[32m│\u001b[0m  \u001b[92mempty state mockups ready Friday\", \"We must improve Step 2 completion; propose shorter profile form\", \"Test \u001b[0m   \u001b[32m│\u001b[0m\n",
       "\u001b[32m│\u001b[0m  \u001b[92mcoverage for payment edge cases at 76%. Needs more cases.\"], \"decisions\": [\"Shorten onboarding Step 2 to a \u001b[0m    \u001b[32m│\u001b[0m\n",
       "\u001b[32m│\u001b[0m  \u001b[92msingle screen (was 2). Target in v2.1.\", \"Keep A/B test for copy on Step 1; no change this week.\"], \"risks\": \u001b[0m  \u001b[32m│\u001b[0m\n",
       "\u001b[32m│\u001b[0m  \u001b[92m[\"Support backlog rising; Alice to re-check staffing by next week.\"], \"action_items\": [{\"owner\": \"Ben\", \u001b[0m       \u001b[32m│\u001b[0m\n",
       "\u001b[32m│\u001b[0m  \u001b[92m\"task\": \"Implement Step 2 consolidation\", \"due\": \"2025-10-03\"}, {\"owner\": \"Chloe\", \"task\": \"Share empty state\u001b[0m  \u001b[32m│\u001b[0m\n",
       "\u001b[32m│\u001b[0m  \u001b[92massets to Eng\", \"due\": \"2025-09-26\"}, {\"owner\": \"Dan\", \"task\": \"Add 5 edge-case tests for payments\", \"due\": \u001b[0m   \u001b[32m│\u001b[0m\n",
       "\u001b[32m│\u001b[0m  \u001b[92m\"2025-09-27\"}]}\u001b[0m                                                                                                \u001b[32m│\u001b[0m\n",
       "\u001b[32m│\u001b[0m                                                                                                                 \u001b[32m│\u001b[0m\n",
       "\u001b[32m╰─────────────────────────────────────────────────────────────────────────────────────────────────────────────────╯\u001b[0m\n"
      ]
     },
     "metadata": {},
     "output_type": "display_data"
    },
    {
     "data": {
      "text/html": [
       "<pre style=\"white-space:pre;overflow-x:auto;line-height:normal;font-family:Menlo,'DejaVu Sans Mono',consolas,'Courier New',monospace\">\n",
       "</pre>\n"
      ],
      "text/plain": [
       "\n"
      ]
     },
     "metadata": {},
     "output_type": "display_data"
    },
    {
     "data": {
      "text/html": [
       "<pre style=\"white-space:pre;overflow-x:auto;line-height:normal;font-family:Menlo,'DejaVu Sans Mono',consolas,'Courier New',monospace\"></pre>\n"
      ],
      "text/plain": []
     },
     "metadata": {},
     "output_type": "display_data"
    },
    {
     "data": {
      "text/html": [
       "<pre style=\"white-space:pre;overflow-x:auto;line-height:normal;font-family:Menlo,'DejaVu Sans Mono',consolas,'Courier New',monospace\"><span style=\"color: #008000; text-decoration-color: #008000\">╭──────────────────────────────────────────────── Task Completion ────────────────────────────────────────────────╮</span>\n",
       "<span style=\"color: #008000; text-decoration-color: #008000\">│</span>                                                                                                                 <span style=\"color: #008000; text-decoration-color: #008000\">│</span>\n",
       "<span style=\"color: #008000; text-decoration-color: #008000\">│</span>  <span style=\"color: #008000; text-decoration-color: #008000; font-weight: bold\">Task Completed</span>                                                                                                 <span style=\"color: #008000; text-decoration-color: #008000\">│</span>\n",
       "<span style=\"color: #008000; text-decoration-color: #008000\">│</span>  <span style=\"color: #c0c0c0; text-decoration-color: #c0c0c0\">Name: </span><span style=\"color: #008000; text-decoration-color: #008000\">41cbadd1-5a88-4fc4-9ede-b7ff60860933</span>                                                                     <span style=\"color: #008000; text-decoration-color: #008000\">│</span>\n",
       "<span style=\"color: #008000; text-decoration-color: #008000\">│</span>  <span style=\"color: #c0c0c0; text-decoration-color: #c0c0c0\">Agent: </span><span style=\"color: #008000; text-decoration-color: #008000\">Minute Taker</span>                                                                                            <span style=\"color: #008000; text-decoration-color: #008000\">│</span>\n",
       "<span style=\"color: #008000; text-decoration-color: #008000\">│</span>  <span style=\"color: #c0c0c0; text-decoration-color: #c0c0c0\">Tool Args: </span>                                                                                                    <span style=\"color: #008000; text-decoration-color: #008000\">│</span>\n",
       "<span style=\"color: #008000; text-decoration-color: #008000\">│</span>                                                                                                                 <span style=\"color: #008000; text-decoration-color: #008000\">│</span>\n",
       "<span style=\"color: #008000; text-decoration-color: #008000\">│</span>                                                                                                                 <span style=\"color: #008000; text-decoration-color: #008000\">│</span>\n",
       "<span style=\"color: #008000; text-decoration-color: #008000\">╰─────────────────────────────────────────────────────────────────────────────────────────────────────────────────╯</span>\n",
       "</pre>\n"
      ],
      "text/plain": [
       "\u001b[32m╭─\u001b[0m\u001b[32m───────────────────────────────────────────────\u001b[0m\u001b[32m Task Completion \u001b[0m\u001b[32m───────────────────────────────────────────────\u001b[0m\u001b[32m─╮\u001b[0m\n",
       "\u001b[32m│\u001b[0m                                                                                                                 \u001b[32m│\u001b[0m\n",
       "\u001b[32m│\u001b[0m  \u001b[1;32mTask Completed\u001b[0m                                                                                                 \u001b[32m│\u001b[0m\n",
       "\u001b[32m│\u001b[0m  \u001b[37mName: \u001b[0m\u001b[32m41cbadd1-5a88-4fc4-9ede-b7ff60860933\u001b[0m                                                                     \u001b[32m│\u001b[0m\n",
       "\u001b[32m│\u001b[0m  \u001b[37mAgent: \u001b[0m\u001b[32mMinute Taker\u001b[0m                                                                                            \u001b[32m│\u001b[0m\n",
       "\u001b[32m│\u001b[0m  \u001b[37mTool Args: \u001b[0m                                                                                                    \u001b[32m│\u001b[0m\n",
       "\u001b[32m│\u001b[0m                                                                                                                 \u001b[32m│\u001b[0m\n",
       "\u001b[32m│\u001b[0m                                                                                                                 \u001b[32m│\u001b[0m\n",
       "\u001b[32m╰─────────────────────────────────────────────────────────────────────────────────────────────────────────────────╯\u001b[0m\n"
      ]
     },
     "metadata": {},
     "output_type": "display_data"
    },
    {
     "data": {
      "text/html": [
       "<pre style=\"white-space:pre;overflow-x:auto;line-height:normal;font-family:Menlo,'DejaVu Sans Mono',consolas,'Courier New',monospace\">\n",
       "</pre>\n"
      ],
      "text/plain": [
       "\n"
      ]
     },
     "metadata": {},
     "output_type": "display_data"
    },
    {
     "data": {
      "text/html": [
       "<pre style=\"white-space:pre;overflow-x:auto;line-height:normal;font-family:Menlo,'DejaVu Sans Mono',consolas,'Courier New',monospace\"></pre>\n"
      ],
      "text/plain": []
     },
     "metadata": {},
     "output_type": "display_data"
    },
    {
     "data": {
      "text/html": [
       "<pre style=\"white-space:pre;overflow-x:auto;line-height:normal;font-family:Menlo,'DejaVu Sans Mono',consolas,'Courier New',monospace\"><span style=\"color: #800080; text-decoration-color: #800080\">╭─────────────────────────────────────────────── 🤖 Agent Started ────────────────────────────────────────────────╮</span>\n",
       "<span style=\"color: #800080; text-decoration-color: #800080\">│</span>                                                                                                                 <span style=\"color: #800080; text-decoration-color: #800080\">│</span>\n",
       "<span style=\"color: #800080; text-decoration-color: #800080\">│</span>  <span style=\"color: #c0c0c0; text-decoration-color: #c0c0c0\">Agent: </span><span style=\"color: #00ff00; text-decoration-color: #00ff00; font-weight: bold\">Minute Formatter</span>                                                                                        <span style=\"color: #800080; text-decoration-color: #800080\">│</span>\n",
       "<span style=\"color: #800080; text-decoration-color: #800080\">│</span>                                                                                                                 <span style=\"color: #800080; text-decoration-color: #800080\">│</span>\n",
       "<span style=\"color: #800080; text-decoration-color: #800080\">│</span>  <span style=\"color: #c0c0c0; text-decoration-color: #c0c0c0\">Task: </span><span style=\"color: #00ff00; text-decoration-color: #00ff00\">You are given a JSON of structured minutes (from the previous task). Create a concise Markdown report </span>   <span style=\"color: #800080; text-decoration-color: #800080\">│</span>\n",
       "<span style=\"color: #800080; text-decoration-color: #800080\">│</span>  <span style=\"color: #00ff00; text-decoration-color: #00ff00\">with sections:</span>                                                                                                 <span style=\"color: #800080; text-decoration-color: #800080\">│</span>\n",
       "<span style=\"color: #800080; text-decoration-color: #800080\">│</span>  <span style=\"color: #00ff00; text-decoration-color: #00ff00\">1) Title &amp; Date</span>                                                                                                <span style=\"color: #800080; text-decoration-color: #800080\">│</span>\n",
       "<span style=\"color: #800080; text-decoration-color: #800080\">│</span>  <span style=\"color: #00ff00; text-decoration-color: #00ff00\">2) Attendees (comma-separated)</span>                                                                                 <span style=\"color: #800080; text-decoration-color: #800080\">│</span>\n",
       "<span style=\"color: #800080; text-decoration-color: #800080\">│</span>  <span style=\"color: #00ff00; text-decoration-color: #00ff00\">3) Agenda (bullets)</span>                                                                                            <span style=\"color: #800080; text-decoration-color: #800080\">│</span>\n",
       "<span style=\"color: #800080; text-decoration-color: #800080\">│</span>  <span style=\"color: #00ff00; text-decoration-color: #00ff00\">4) Key Points (bullets)</span>                                                                                        <span style=\"color: #800080; text-decoration-color: #800080\">│</span>\n",
       "<span style=\"color: #800080; text-decoration-color: #800080\">│</span>  <span style=\"color: #00ff00; text-decoration-color: #00ff00\">5) Decisions (bullets)</span>                                                                                         <span style=\"color: #800080; text-decoration-color: #800080\">│</span>\n",
       "<span style=\"color: #800080; text-decoration-color: #800080\">│</span>  <span style=\"color: #00ff00; text-decoration-color: #00ff00\">6) Risks (bullets)</span>                                                                                             <span style=\"color: #800080; text-decoration-color: #800080\">│</span>\n",
       "<span style=\"color: #800080; text-decoration-color: #800080\">│</span>  <span style=\"color: #00ff00; text-decoration-color: #00ff00\">7) Action Items (table: Owner | Task | Due | Status)</span>                                                           <span style=\"color: #800080; text-decoration-color: #800080\">│</span>\n",
       "<span style=\"color: #800080; text-decoration-color: #800080\">│</span>                                                                                                                 <span style=\"color: #800080; text-decoration-color: #800080\">│</span>\n",
       "<span style=\"color: #800080; text-decoration-color: #800080\">│</span>  <span style=\"color: #00ff00; text-decoration-color: #00ff00\">Rules:</span>                                                                                                         <span style=\"color: #800080; text-decoration-color: #800080\">│</span>\n",
       "<span style=\"color: #800080; text-decoration-color: #800080\">│</span>  <span style=\"color: #00ff00; text-decoration-color: #00ff00\">- Do not invent content; use JSON fields as-is.</span>                                                                <span style=\"color: #800080; text-decoration-color: #800080\">│</span>\n",
       "<span style=\"color: #800080; text-decoration-color: #800080\">│</span>  <span style=\"color: #00ff00; text-decoration-color: #00ff00\">- Keep it compact and readable.</span>                                                                                <span style=\"color: #800080; text-decoration-color: #800080\">│</span>\n",
       "<span style=\"color: #800080; text-decoration-color: #800080\">│</span>                                                                                                                 <span style=\"color: #800080; text-decoration-color: #800080\">│</span>\n",
       "<span style=\"color: #800080; text-decoration-color: #800080\">╰─────────────────────────────────────────────────────────────────────────────────────────────────────────────────╯</span>\n",
       "</pre>\n"
      ],
      "text/plain": [
       "\u001b[35m╭─\u001b[0m\u001b[35m──────────────────────────────────────────────\u001b[0m\u001b[35m 🤖 Agent Started \u001b[0m\u001b[35m───────────────────────────────────────────────\u001b[0m\u001b[35m─╮\u001b[0m\n",
       "\u001b[35m│\u001b[0m                                                                                                                 \u001b[35m│\u001b[0m\n",
       "\u001b[35m│\u001b[0m  \u001b[37mAgent: \u001b[0m\u001b[1;92mMinute Formatter\u001b[0m                                                                                        \u001b[35m│\u001b[0m\n",
       "\u001b[35m│\u001b[0m                                                                                                                 \u001b[35m│\u001b[0m\n",
       "\u001b[35m│\u001b[0m  \u001b[37mTask: \u001b[0m\u001b[92mYou are given a JSON of structured minutes (from the previous task). Create a concise Markdown report \u001b[0m   \u001b[35m│\u001b[0m\n",
       "\u001b[35m│\u001b[0m  \u001b[92mwith sections:\u001b[0m                                                                                                 \u001b[35m│\u001b[0m\n",
       "\u001b[35m│\u001b[0m  \u001b[92m1) Title & Date\u001b[0m                                                                                                \u001b[35m│\u001b[0m\n",
       "\u001b[35m│\u001b[0m  \u001b[92m2) Attendees (comma-separated)\u001b[0m                                                                                 \u001b[35m│\u001b[0m\n",
       "\u001b[35m│\u001b[0m  \u001b[92m3) Agenda (bullets)\u001b[0m                                                                                            \u001b[35m│\u001b[0m\n",
       "\u001b[35m│\u001b[0m  \u001b[92m4) Key Points (bullets)\u001b[0m                                                                                        \u001b[35m│\u001b[0m\n",
       "\u001b[35m│\u001b[0m  \u001b[92m5) Decisions (bullets)\u001b[0m                                                                                         \u001b[35m│\u001b[0m\n",
       "\u001b[35m│\u001b[0m  \u001b[92m6) Risks (bullets)\u001b[0m                                                                                             \u001b[35m│\u001b[0m\n",
       "\u001b[35m│\u001b[0m  \u001b[92m7) Action Items (table: Owner | Task | Due | Status)\u001b[0m                                                           \u001b[35m│\u001b[0m\n",
       "\u001b[35m│\u001b[0m                                                                                                                 \u001b[35m│\u001b[0m\n",
       "\u001b[35m│\u001b[0m  \u001b[92mRules:\u001b[0m                                                                                                         \u001b[35m│\u001b[0m\n",
       "\u001b[35m│\u001b[0m  \u001b[92m- Do not invent content; use JSON fields as-is.\u001b[0m                                                                \u001b[35m│\u001b[0m\n",
       "\u001b[35m│\u001b[0m  \u001b[92m- Keep it compact and readable.\u001b[0m                                                                                \u001b[35m│\u001b[0m\n",
       "\u001b[35m│\u001b[0m                                                                                                                 \u001b[35m│\u001b[0m\n",
       "\u001b[35m╰─────────────────────────────────────────────────────────────────────────────────────────────────────────────────╯\u001b[0m\n"
      ]
     },
     "metadata": {},
     "output_type": "display_data"
    },
    {
     "data": {
      "text/html": [
       "<pre style=\"white-space:pre;overflow-x:auto;line-height:normal;font-family:Menlo,'DejaVu Sans Mono',consolas,'Courier New',monospace\">\n",
       "</pre>\n"
      ],
      "text/plain": [
       "\n"
      ]
     },
     "metadata": {},
     "output_type": "display_data"
    },
    {
     "data": {
      "application/vnd.jupyter.widget-view+json": {
       "model_id": "2af12d93abfe4227ad1b5b89dea35596",
       "version_major": 2,
       "version_minor": 0
      },
      "text/plain": [
       "Output()"
      ]
     },
     "metadata": {},
     "output_type": "display_data"
    },
    {
     "data": {
      "text/html": [
       "<pre style=\"white-space:pre;overflow-x:auto;line-height:normal;font-family:Menlo,'DejaVu Sans Mono',consolas,'Courier New',monospace\"></pre>\n"
      ],
      "text/plain": []
     },
     "metadata": {},
     "output_type": "display_data"
    },
    {
     "data": {
      "text/html": [
       "<pre style=\"white-space:pre;overflow-x:auto;line-height:normal;font-family:Menlo,'DejaVu Sans Mono',consolas,'Courier New',monospace\"><span style=\"color: #008000; text-decoration-color: #008000\">╭───────────────────────────────────────────── ✅ Agent Final Answer ─────────────────────────────────────────────╮</span>\n",
       "<span style=\"color: #008000; text-decoration-color: #008000\">│</span>                                                                                                                 <span style=\"color: #008000; text-decoration-color: #008000\">│</span>\n",
       "<span style=\"color: #008000; text-decoration-color: #008000\">│</span>  <span style=\"color: #c0c0c0; text-decoration-color: #c0c0c0\">Agent: </span><span style=\"color: #00ff00; text-decoration-color: #00ff00; font-weight: bold\">Minute Formatter</span>                                                                                        <span style=\"color: #008000; text-decoration-color: #008000\">│</span>\n",
       "<span style=\"color: #008000; text-decoration-color: #008000\">│</span>                                                                                                                 <span style=\"color: #008000; text-decoration-color: #008000\">│</span>\n",
       "<span style=\"color: #008000; text-decoration-color: #008000\">│</span>  <span style=\"color: #c0c0c0; text-decoration-color: #c0c0c0\">Final Answer:</span>                                                                                                  <span style=\"color: #008000; text-decoration-color: #008000\">│</span>\n",
       "<span style=\"color: #008000; text-decoration-color: #008000\">│</span>  <span style=\"color: #00ff00; text-decoration-color: #00ff00\"># Product Sync — Mobile App v2.1</span>                                                                               <span style=\"color: #008000; text-decoration-color: #008000\">│</span>\n",
       "<span style=\"color: #008000; text-decoration-color: #008000\">│</span>  <span style=\"color: #00ff00; text-decoration-color: #00ff00\">## 2025-09-24, 10:00–10:30</span>                                                                                     <span style=\"color: #008000; text-decoration-color: #008000\">│</span>\n",
       "<span style=\"color: #008000; text-decoration-color: #008000\">│</span>                                                                                                                 <span style=\"color: #008000; text-decoration-color: #008000\">│</span>\n",
       "<span style=\"color: #008000; text-decoration-color: #008000\">│</span>  <span style=\"color: #00ff00; text-decoration-color: #00ff00\">### Attendees</span>                                                                                                  <span style=\"color: #008000; text-decoration-color: #008000\">│</span>\n",
       "<span style=\"color: #008000; text-decoration-color: #008000\">│</span>  <span style=\"color: #00ff00; text-decoration-color: #00ff00\">Alice (PM), Ben (Eng Lead), Chloe (Design), Dan (QA)</span>                                                           <span style=\"color: #008000; text-decoration-color: #008000\">│</span>\n",
       "<span style=\"color: #008000; text-decoration-color: #008000\">│</span>                                                                                                                 <span style=\"color: #008000; text-decoration-color: #008000\">│</span>\n",
       "<span style=\"color: #008000; text-decoration-color: #008000\">│</span>  <span style=\"color: #00ff00; text-decoration-color: #00ff00\">### Agenda</span>                                                                                                     <span style=\"color: #008000; text-decoration-color: #008000\">│</span>\n",
       "<span style=\"color: #008000; text-decoration-color: #008000\">│</span>  <span style=\"color: #00ff00; text-decoration-color: #00ff00\">* Onboarding funnel drop-offs</span>                                                                                  <span style=\"color: #008000; text-decoration-color: #008000\">│</span>\n",
       "<span style=\"color: #008000; text-decoration-color: #008000\">│</span>  <span style=\"color: #00ff00; text-decoration-color: #00ff00\">* Release v2.1 dates &amp; scope</span>                                                                                   <span style=\"color: #008000; text-decoration-color: #008000\">│</span>\n",
       "<span style=\"color: #008000; text-decoration-color: #008000\">│</span>  <span style=\"color: #00ff00; text-decoration-color: #00ff00\">* Support load after v2.0</span>                                                                                      <span style=\"color: #008000; text-decoration-color: #008000\">│</span>\n",
       "<span style=\"color: #008000; text-decoration-color: #008000\">│</span>                                                                                                                 <span style=\"color: #008000; text-decoration-color: #008000\">│</span>\n",
       "<span style=\"color: #008000; text-decoration-color: #008000\">│</span>  <span style=\"color: #00ff00; text-decoration-color: #00ff00\">### Key Points</span>                                                                                                 <span style=\"color: #008000; text-decoration-color: #008000\">│</span>\n",
       "<span style=\"color: #008000; text-decoration-color: #008000\">│</span>  <span style=\"color: #00ff00; text-decoration-color: #00ff00\">* Crash rate after v2.0 hotfix is 0.18%</span>                                                                        <span style=\"color: #008000; text-decoration-color: #008000\">│</span>\n",
       "<span style=\"color: #008000; text-decoration-color: #008000\">│</span>  <span style=\"color: #00ff00; text-decoration-color: #00ff00\">* New empty state mockups ready Friday</span>                                                                         <span style=\"color: #008000; text-decoration-color: #008000\">│</span>\n",
       "<span style=\"color: #008000; text-decoration-color: #008000\">│</span>  <span style=\"color: #00ff00; text-decoration-color: #00ff00\">* We must improve Step 2 completion; propose shorter profile form</span>                                              <span style=\"color: #008000; text-decoration-color: #008000\">│</span>\n",
       "<span style=\"color: #008000; text-decoration-color: #008000\">│</span>  <span style=\"color: #00ff00; text-decoration-color: #00ff00\">* Test coverage for payment edge cases at 76%. Needs more cases.</span>                                               <span style=\"color: #008000; text-decoration-color: #008000\">│</span>\n",
       "<span style=\"color: #008000; text-decoration-color: #008000\">│</span>                                                                                                                 <span style=\"color: #008000; text-decoration-color: #008000\">│</span>\n",
       "<span style=\"color: #008000; text-decoration-color: #008000\">│</span>  <span style=\"color: #00ff00; text-decoration-color: #00ff00\">### Decisions</span>                                                                                                  <span style=\"color: #008000; text-decoration-color: #008000\">│</span>\n",
       "<span style=\"color: #008000; text-decoration-color: #008000\">│</span>  <span style=\"color: #00ff00; text-decoration-color: #00ff00\">* Shorten onboarding Step 2 to a single screen (was 2). Target in v2.1.</span>                                        <span style=\"color: #008000; text-decoration-color: #008000\">│</span>\n",
       "<span style=\"color: #008000; text-decoration-color: #008000\">│</span>  <span style=\"color: #00ff00; text-decoration-color: #00ff00\">* Keep A/B test for copy on Step 1; no change this week.</span>                                                       <span style=\"color: #008000; text-decoration-color: #008000\">│</span>\n",
       "<span style=\"color: #008000; text-decoration-color: #008000\">│</span>                                                                                                                 <span style=\"color: #008000; text-decoration-color: #008000\">│</span>\n",
       "<span style=\"color: #008000; text-decoration-color: #008000\">│</span>  <span style=\"color: #00ff00; text-decoration-color: #00ff00\">### Risks</span>                                                                                                      <span style=\"color: #008000; text-decoration-color: #008000\">│</span>\n",
       "<span style=\"color: #008000; text-decoration-color: #008000\">│</span>  <span style=\"color: #00ff00; text-decoration-color: #00ff00\">* Support backlog rising; Alice to re-check staffing by next week.</span>                                             <span style=\"color: #008000; text-decoration-color: #008000\">│</span>\n",
       "<span style=\"color: #008000; text-decoration-color: #008000\">│</span>                                                                                                                 <span style=\"color: #008000; text-decoration-color: #008000\">│</span>\n",
       "<span style=\"color: #008000; text-decoration-color: #008000\">│</span>  <span style=\"color: #00ff00; text-decoration-color: #00ff00\">### Action Items</span>                                                                                               <span style=\"color: #008000; text-decoration-color: #008000\">│</span>\n",
       "<span style=\"color: #008000; text-decoration-color: #008000\">│</span>  <span style=\"color: #00ff00; text-decoration-color: #00ff00\">| Owner | Task | Due | Status |</span>                                                                                <span style=\"color: #008000; text-decoration-color: #008000\">│</span>\n",
       "<span style=\"color: #008000; text-decoration-color: #008000\">│</span>  <span style=\"color: #00ff00; text-decoration-color: #00ff00\">| --- | --- | --- | --- |</span>                                                                                      <span style=\"color: #008000; text-decoration-color: #008000\">│</span>\n",
       "<span style=\"color: #008000; text-decoration-color: #008000\">│</span>  <span style=\"color: #00ff00; text-decoration-color: #00ff00\">| Ben | Implement Step 2 consolidation | 2025-10-03 | - |</span>                                                      <span style=\"color: #008000; text-decoration-color: #008000\">│</span>\n",
       "<span style=\"color: #008000; text-decoration-color: #008000\">│</span>  <span style=\"color: #00ff00; text-decoration-color: #00ff00\">| Chloe | Share empty state assets to Eng | 2025-09-26 | - |</span>                                                   <span style=\"color: #008000; text-decoration-color: #008000\">│</span>\n",
       "<span style=\"color: #008000; text-decoration-color: #008000\">│</span>  <span style=\"color: #00ff00; text-decoration-color: #00ff00\">| Dan | Add 5 edge-case tests for payments | 2025-09-27 | - |</span>                                                  <span style=\"color: #008000; text-decoration-color: #008000\">│</span>\n",
       "<span style=\"color: #008000; text-decoration-color: #008000\">│</span>                                                                                                                 <span style=\"color: #008000; text-decoration-color: #008000\">│</span>\n",
       "<span style=\"color: #008000; text-decoration-color: #008000\">╰─────────────────────────────────────────────────────────────────────────────────────────────────────────────────╯</span>\n",
       "</pre>\n"
      ],
      "text/plain": [
       "\u001b[32m╭─\u001b[0m\u001b[32m────────────────────────────────────────────\u001b[0m\u001b[32m ✅ Agent Final Answer \u001b[0m\u001b[32m────────────────────────────────────────────\u001b[0m\u001b[32m─╮\u001b[0m\n",
       "\u001b[32m│\u001b[0m                                                                                                                 \u001b[32m│\u001b[0m\n",
       "\u001b[32m│\u001b[0m  \u001b[37mAgent: \u001b[0m\u001b[1;92mMinute Formatter\u001b[0m                                                                                        \u001b[32m│\u001b[0m\n",
       "\u001b[32m│\u001b[0m                                                                                                                 \u001b[32m│\u001b[0m\n",
       "\u001b[32m│\u001b[0m  \u001b[37mFinal Answer:\u001b[0m                                                                                                  \u001b[32m│\u001b[0m\n",
       "\u001b[32m│\u001b[0m  \u001b[92m# Product Sync — Mobile App v2.1\u001b[0m                                                                               \u001b[32m│\u001b[0m\n",
       "\u001b[32m│\u001b[0m  \u001b[92m## 2025-09-24, 10:00–10:30\u001b[0m                                                                                     \u001b[32m│\u001b[0m\n",
       "\u001b[32m│\u001b[0m                                                                                                                 \u001b[32m│\u001b[0m\n",
       "\u001b[32m│\u001b[0m  \u001b[92m### Attendees\u001b[0m                                                                                                  \u001b[32m│\u001b[0m\n",
       "\u001b[32m│\u001b[0m  \u001b[92mAlice (PM), Ben (Eng Lead), Chloe (Design), Dan (QA)\u001b[0m                                                           \u001b[32m│\u001b[0m\n",
       "\u001b[32m│\u001b[0m                                                                                                                 \u001b[32m│\u001b[0m\n",
       "\u001b[32m│\u001b[0m  \u001b[92m### Agenda\u001b[0m                                                                                                     \u001b[32m│\u001b[0m\n",
       "\u001b[32m│\u001b[0m  \u001b[92m* Onboarding funnel drop-offs\u001b[0m                                                                                  \u001b[32m│\u001b[0m\n",
       "\u001b[32m│\u001b[0m  \u001b[92m* Release v2.1 dates & scope\u001b[0m                                                                                   \u001b[32m│\u001b[0m\n",
       "\u001b[32m│\u001b[0m  \u001b[92m* Support load after v2.0\u001b[0m                                                                                      \u001b[32m│\u001b[0m\n",
       "\u001b[32m│\u001b[0m                                                                                                                 \u001b[32m│\u001b[0m\n",
       "\u001b[32m│\u001b[0m  \u001b[92m### Key Points\u001b[0m                                                                                                 \u001b[32m│\u001b[0m\n",
       "\u001b[32m│\u001b[0m  \u001b[92m* Crash rate after v2.0 hotfix is 0.18%\u001b[0m                                                                        \u001b[32m│\u001b[0m\n",
       "\u001b[32m│\u001b[0m  \u001b[92m* New empty state mockups ready Friday\u001b[0m                                                                         \u001b[32m│\u001b[0m\n",
       "\u001b[32m│\u001b[0m  \u001b[92m* We must improve Step 2 completion; propose shorter profile form\u001b[0m                                              \u001b[32m│\u001b[0m\n",
       "\u001b[32m│\u001b[0m  \u001b[92m* Test coverage for payment edge cases at 76%. Needs more cases.\u001b[0m                                               \u001b[32m│\u001b[0m\n",
       "\u001b[32m│\u001b[0m                                                                                                                 \u001b[32m│\u001b[0m\n",
       "\u001b[32m│\u001b[0m  \u001b[92m### Decisions\u001b[0m                                                                                                  \u001b[32m│\u001b[0m\n",
       "\u001b[32m│\u001b[0m  \u001b[92m* Shorten onboarding Step 2 to a single screen (was 2). Target in v2.1.\u001b[0m                                        \u001b[32m│\u001b[0m\n",
       "\u001b[32m│\u001b[0m  \u001b[92m* Keep A/B test for copy on Step 1; no change this week.\u001b[0m                                                       \u001b[32m│\u001b[0m\n",
       "\u001b[32m│\u001b[0m                                                                                                                 \u001b[32m│\u001b[0m\n",
       "\u001b[32m│\u001b[0m  \u001b[92m### Risks\u001b[0m                                                                                                      \u001b[32m│\u001b[0m\n",
       "\u001b[32m│\u001b[0m  \u001b[92m* Support backlog rising; Alice to re-check staffing by next week.\u001b[0m                                             \u001b[32m│\u001b[0m\n",
       "\u001b[32m│\u001b[0m                                                                                                                 \u001b[32m│\u001b[0m\n",
       "\u001b[32m│\u001b[0m  \u001b[92m### Action Items\u001b[0m                                                                                               \u001b[32m│\u001b[0m\n",
       "\u001b[32m│\u001b[0m  \u001b[92m| Owner | Task | Due | Status |\u001b[0m                                                                                \u001b[32m│\u001b[0m\n",
       "\u001b[32m│\u001b[0m  \u001b[92m| --- | --- | --- | --- |\u001b[0m                                                                                      \u001b[32m│\u001b[0m\n",
       "\u001b[32m│\u001b[0m  \u001b[92m| Ben | Implement Step 2 consolidation | 2025-10-03 | - |\u001b[0m                                                      \u001b[32m│\u001b[0m\n",
       "\u001b[32m│\u001b[0m  \u001b[92m| Chloe | Share empty state assets to Eng | 2025-09-26 | - |\u001b[0m                                                   \u001b[32m│\u001b[0m\n",
       "\u001b[32m│\u001b[0m  \u001b[92m| Dan | Add 5 edge-case tests for payments | 2025-09-27 | - |\u001b[0m                                                  \u001b[32m│\u001b[0m\n",
       "\u001b[32m│\u001b[0m                                                                                                                 \u001b[32m│\u001b[0m\n",
       "\u001b[32m╰─────────────────────────────────────────────────────────────────────────────────────────────────────────────────╯\u001b[0m\n"
      ]
     },
     "metadata": {},
     "output_type": "display_data"
    },
    {
     "data": {
      "text/html": [
       "<pre style=\"white-space:pre;overflow-x:auto;line-height:normal;font-family:Menlo,'DejaVu Sans Mono',consolas,'Courier New',monospace\">\n",
       "</pre>\n"
      ],
      "text/plain": [
       "\n"
      ]
     },
     "metadata": {},
     "output_type": "display_data"
    },
    {
     "data": {
      "text/html": [
       "<pre style=\"white-space:pre;overflow-x:auto;line-height:normal;font-family:Menlo,'DejaVu Sans Mono',consolas,'Courier New',monospace\"></pre>\n"
      ],
      "text/plain": []
     },
     "metadata": {},
     "output_type": "display_data"
    },
    {
     "data": {
      "text/html": [
       "<pre style=\"white-space:pre;overflow-x:auto;line-height:normal;font-family:Menlo,'DejaVu Sans Mono',consolas,'Courier New',monospace\"><span style=\"color: #008000; text-decoration-color: #008000\">╭──────────────────────────────────────────────── Task Completion ────────────────────────────────────────────────╮</span>\n",
       "<span style=\"color: #008000; text-decoration-color: #008000\">│</span>                                                                                                                 <span style=\"color: #008000; text-decoration-color: #008000\">│</span>\n",
       "<span style=\"color: #008000; text-decoration-color: #008000\">│</span>  <span style=\"color: #008000; text-decoration-color: #008000; font-weight: bold\">Task Completed</span>                                                                                                 <span style=\"color: #008000; text-decoration-color: #008000\">│</span>\n",
       "<span style=\"color: #008000; text-decoration-color: #008000\">│</span>  <span style=\"color: #c0c0c0; text-decoration-color: #c0c0c0\">Name: </span><span style=\"color: #008000; text-decoration-color: #008000\">107f52df-0cb4-4d7f-8cca-54909f1bf36c</span>                                                                     <span style=\"color: #008000; text-decoration-color: #008000\">│</span>\n",
       "<span style=\"color: #008000; text-decoration-color: #008000\">│</span>  <span style=\"color: #c0c0c0; text-decoration-color: #c0c0c0\">Agent: </span><span style=\"color: #008000; text-decoration-color: #008000\">Minute Formatter</span>                                                                                        <span style=\"color: #008000; text-decoration-color: #008000\">│</span>\n",
       "<span style=\"color: #008000; text-decoration-color: #008000\">│</span>  <span style=\"color: #c0c0c0; text-decoration-color: #c0c0c0\">Tool Args: </span>                                                                                                    <span style=\"color: #008000; text-decoration-color: #008000\">│</span>\n",
       "<span style=\"color: #008000; text-decoration-color: #008000\">│</span>                                                                                                                 <span style=\"color: #008000; text-decoration-color: #008000\">│</span>\n",
       "<span style=\"color: #008000; text-decoration-color: #008000\">│</span>                                                                                                                 <span style=\"color: #008000; text-decoration-color: #008000\">│</span>\n",
       "<span style=\"color: #008000; text-decoration-color: #008000\">╰─────────────────────────────────────────────────────────────────────────────────────────────────────────────────╯</span>\n",
       "</pre>\n"
      ],
      "text/plain": [
       "\u001b[32m╭─\u001b[0m\u001b[32m───────────────────────────────────────────────\u001b[0m\u001b[32m Task Completion \u001b[0m\u001b[32m───────────────────────────────────────────────\u001b[0m\u001b[32m─╮\u001b[0m\n",
       "\u001b[32m│\u001b[0m                                                                                                                 \u001b[32m│\u001b[0m\n",
       "\u001b[32m│\u001b[0m  \u001b[1;32mTask Completed\u001b[0m                                                                                                 \u001b[32m│\u001b[0m\n",
       "\u001b[32m│\u001b[0m  \u001b[37mName: \u001b[0m\u001b[32m107f52df-0cb4-4d7f-8cca-54909f1bf36c\u001b[0m                                                                     \u001b[32m│\u001b[0m\n",
       "\u001b[32m│\u001b[0m  \u001b[37mAgent: \u001b[0m\u001b[32mMinute Formatter\u001b[0m                                                                                        \u001b[32m│\u001b[0m\n",
       "\u001b[32m│\u001b[0m  \u001b[37mTool Args: \u001b[0m                                                                                                    \u001b[32m│\u001b[0m\n",
       "\u001b[32m│\u001b[0m                                                                                                                 \u001b[32m│\u001b[0m\n",
       "\u001b[32m│\u001b[0m                                                                                                                 \u001b[32m│\u001b[0m\n",
       "\u001b[32m╰─────────────────────────────────────────────────────────────────────────────────────────────────────────────────╯\u001b[0m\n"
      ]
     },
     "metadata": {},
     "output_type": "display_data"
    },
    {
     "data": {
      "text/html": [
       "<pre style=\"white-space:pre;overflow-x:auto;line-height:normal;font-family:Menlo,'DejaVu Sans Mono',consolas,'Courier New',monospace\">\n",
       "</pre>\n"
      ],
      "text/plain": [
       "\n"
      ]
     },
     "metadata": {},
     "output_type": "display_data"
    },
    {
     "data": {
      "text/html": [
       "<pre style=\"white-space:pre;overflow-x:auto;line-height:normal;font-family:Menlo,'DejaVu Sans Mono',consolas,'Courier New',monospace\"><span style=\"color: #008000; text-decoration-color: #008000\">╭──────────────────────────────────────────────── Crew Completion ────────────────────────────────────────────────╮</span>\n",
       "<span style=\"color: #008000; text-decoration-color: #008000\">│</span>                                                                                                                 <span style=\"color: #008000; text-decoration-color: #008000\">│</span>\n",
       "<span style=\"color: #008000; text-decoration-color: #008000\">│</span>  <span style=\"color: #008000; text-decoration-color: #008000; font-weight: bold\">Crew Execution Completed</span>                                                                                       <span style=\"color: #008000; text-decoration-color: #008000\">│</span>\n",
       "<span style=\"color: #008000; text-decoration-color: #008000\">│</span>  <span style=\"color: #c0c0c0; text-decoration-color: #c0c0c0\">Name: </span><span style=\"color: #008000; text-decoration-color: #008000\">crew</span>                                                                                                     <span style=\"color: #008000; text-decoration-color: #008000\">│</span>\n",
       "<span style=\"color: #008000; text-decoration-color: #008000\">│</span>  <span style=\"color: #c0c0c0; text-decoration-color: #c0c0c0\">ID: </span><span style=\"color: #008000; text-decoration-color: #008000\">bd730eb4-f908-4aca-b648-c30e51eee555</span>                                                                       <span style=\"color: #008000; text-decoration-color: #008000\">│</span>\n",
       "<span style=\"color: #008000; text-decoration-color: #008000\">│</span>  <span style=\"color: #c0c0c0; text-decoration-color: #c0c0c0\">Tool Args: </span>                                                                                                    <span style=\"color: #008000; text-decoration-color: #008000\">│</span>\n",
       "<span style=\"color: #008000; text-decoration-color: #008000\">│</span>  <span style=\"color: #c0c0c0; text-decoration-color: #c0c0c0\">Final Output: # Product Sync — Mobile App v2.1</span>                                                                 <span style=\"color: #008000; text-decoration-color: #008000\">│</span>\n",
       "<span style=\"color: #008000; text-decoration-color: #008000\">│</span>  <span style=\"color: #c0c0c0; text-decoration-color: #c0c0c0\">## 2025-09-24, 10:00–10:30</span>                                                                                     <span style=\"color: #008000; text-decoration-color: #008000\">│</span>\n",
       "<span style=\"color: #008000; text-decoration-color: #008000\">│</span>                                                                                                                 <span style=\"color: #008000; text-decoration-color: #008000\">│</span>\n",
       "<span style=\"color: #008000; text-decoration-color: #008000\">│</span>  <span style=\"color: #c0c0c0; text-decoration-color: #c0c0c0\">### Attendees</span>                                                                                                  <span style=\"color: #008000; text-decoration-color: #008000\">│</span>\n",
       "<span style=\"color: #008000; text-decoration-color: #008000\">│</span>  <span style=\"color: #c0c0c0; text-decoration-color: #c0c0c0\">Alice (PM), Ben (Eng Lead), Chloe (Design), Dan (QA)</span>                                                           <span style=\"color: #008000; text-decoration-color: #008000\">│</span>\n",
       "<span style=\"color: #008000; text-decoration-color: #008000\">│</span>                                                                                                                 <span style=\"color: #008000; text-decoration-color: #008000\">│</span>\n",
       "<span style=\"color: #008000; text-decoration-color: #008000\">│</span>  <span style=\"color: #c0c0c0; text-decoration-color: #c0c0c0\">### Agenda</span>                                                                                                     <span style=\"color: #008000; text-decoration-color: #008000\">│</span>\n",
       "<span style=\"color: #008000; text-decoration-color: #008000\">│</span>  <span style=\"color: #c0c0c0; text-decoration-color: #c0c0c0\">* Onboarding funnel drop-offs</span>                                                                                  <span style=\"color: #008000; text-decoration-color: #008000\">│</span>\n",
       "<span style=\"color: #008000; text-decoration-color: #008000\">│</span>  <span style=\"color: #c0c0c0; text-decoration-color: #c0c0c0\">* Release v2.1 dates &amp; scope</span>                                                                                   <span style=\"color: #008000; text-decoration-color: #008000\">│</span>\n",
       "<span style=\"color: #008000; text-decoration-color: #008000\">│</span>  <span style=\"color: #c0c0c0; text-decoration-color: #c0c0c0\">* Support load after v2.0</span>                                                                                      <span style=\"color: #008000; text-decoration-color: #008000\">│</span>\n",
       "<span style=\"color: #008000; text-decoration-color: #008000\">│</span>                                                                                                                 <span style=\"color: #008000; text-decoration-color: #008000\">│</span>\n",
       "<span style=\"color: #008000; text-decoration-color: #008000\">│</span>  <span style=\"color: #c0c0c0; text-decoration-color: #c0c0c0\">### Key Points</span>                                                                                                 <span style=\"color: #008000; text-decoration-color: #008000\">│</span>\n",
       "<span style=\"color: #008000; text-decoration-color: #008000\">│</span>  <span style=\"color: #c0c0c0; text-decoration-color: #c0c0c0\">* Crash rate after v2.0 hotfix is 0.18%</span>                                                                        <span style=\"color: #008000; text-decoration-color: #008000\">│</span>\n",
       "<span style=\"color: #008000; text-decoration-color: #008000\">│</span>  <span style=\"color: #c0c0c0; text-decoration-color: #c0c0c0\">* New empty state mockups ready Friday</span>                                                                         <span style=\"color: #008000; text-decoration-color: #008000\">│</span>\n",
       "<span style=\"color: #008000; text-decoration-color: #008000\">│</span>  <span style=\"color: #c0c0c0; text-decoration-color: #c0c0c0\">* We must improve Step 2 completion; propose shorter profile form</span>                                              <span style=\"color: #008000; text-decoration-color: #008000\">│</span>\n",
       "<span style=\"color: #008000; text-decoration-color: #008000\">│</span>  <span style=\"color: #c0c0c0; text-decoration-color: #c0c0c0\">* Test coverage for payment edge cases at 76%. Needs more cases.</span>                                               <span style=\"color: #008000; text-decoration-color: #008000\">│</span>\n",
       "<span style=\"color: #008000; text-decoration-color: #008000\">│</span>                                                                                                                 <span style=\"color: #008000; text-decoration-color: #008000\">│</span>\n",
       "<span style=\"color: #008000; text-decoration-color: #008000\">│</span>  <span style=\"color: #c0c0c0; text-decoration-color: #c0c0c0\">### Decisions</span>                                                                                                  <span style=\"color: #008000; text-decoration-color: #008000\">│</span>\n",
       "<span style=\"color: #008000; text-decoration-color: #008000\">│</span>  <span style=\"color: #c0c0c0; text-decoration-color: #c0c0c0\">* Shorten onboarding Step 2 to a single screen (was 2). Target in v2.1.</span>                                        <span style=\"color: #008000; text-decoration-color: #008000\">│</span>\n",
       "<span style=\"color: #008000; text-decoration-color: #008000\">│</span>  <span style=\"color: #c0c0c0; text-decoration-color: #c0c0c0\">* Keep A/B test for copy on Step 1; no change this week.</span>                                                       <span style=\"color: #008000; text-decoration-color: #008000\">│</span>\n",
       "<span style=\"color: #008000; text-decoration-color: #008000\">│</span>                                                                                                                 <span style=\"color: #008000; text-decoration-color: #008000\">│</span>\n",
       "<span style=\"color: #008000; text-decoration-color: #008000\">│</span>  <span style=\"color: #c0c0c0; text-decoration-color: #c0c0c0\">### Risks</span>                                                                                                      <span style=\"color: #008000; text-decoration-color: #008000\">│</span>\n",
       "<span style=\"color: #008000; text-decoration-color: #008000\">│</span>  <span style=\"color: #c0c0c0; text-decoration-color: #c0c0c0\">* Support backlog rising; Alice to re-check staffing by next week.</span>                                             <span style=\"color: #008000; text-decoration-color: #008000\">│</span>\n",
       "<span style=\"color: #008000; text-decoration-color: #008000\">│</span>                                                                                                                 <span style=\"color: #008000; text-decoration-color: #008000\">│</span>\n",
       "<span style=\"color: #008000; text-decoration-color: #008000\">│</span>  <span style=\"color: #c0c0c0; text-decoration-color: #c0c0c0\">### Action Items</span>                                                                                               <span style=\"color: #008000; text-decoration-color: #008000\">│</span>\n",
       "<span style=\"color: #008000; text-decoration-color: #008000\">│</span>  <span style=\"color: #c0c0c0; text-decoration-color: #c0c0c0\">| Owner | Task | Due | Status |</span>                                                                                <span style=\"color: #008000; text-decoration-color: #008000\">│</span>\n",
       "<span style=\"color: #008000; text-decoration-color: #008000\">│</span>  <span style=\"color: #c0c0c0; text-decoration-color: #c0c0c0\">| --- | --- | --- | --- |</span>                                                                                      <span style=\"color: #008000; text-decoration-color: #008000\">│</span>\n",
       "<span style=\"color: #008000; text-decoration-color: #008000\">│</span>  <span style=\"color: #c0c0c0; text-decoration-color: #c0c0c0\">| Ben | Implement Step 2 consolidation | 2025-10-03 | - |</span>                                                      <span style=\"color: #008000; text-decoration-color: #008000\">│</span>\n",
       "<span style=\"color: #008000; text-decoration-color: #008000\">│</span>  <span style=\"color: #c0c0c0; text-decoration-color: #c0c0c0\">| Chloe | Share empty state assets to Eng | 2025-09-26 | - |</span>                                                   <span style=\"color: #008000; text-decoration-color: #008000\">│</span>\n",
       "<span style=\"color: #008000; text-decoration-color: #008000\">│</span>  <span style=\"color: #c0c0c0; text-decoration-color: #c0c0c0\">| Dan | Add 5 edge-case tests for payments | 2025-09-27 | - |</span>                                                  <span style=\"color: #008000; text-decoration-color: #008000\">│</span>\n",
       "<span style=\"color: #008000; text-decoration-color: #008000\">│</span>                                                                                                                 <span style=\"color: #008000; text-decoration-color: #008000\">│</span>\n",
       "<span style=\"color: #008000; text-decoration-color: #008000\">│</span>                                                                                                                 <span style=\"color: #008000; text-decoration-color: #008000\">│</span>\n",
       "<span style=\"color: #008000; text-decoration-color: #008000\">╰─────────────────────────────────────────────────────────────────────────────────────────────────────────────────╯</span>\n",
       "</pre>\n"
      ],
      "text/plain": [
       "\u001b[32m╭─\u001b[0m\u001b[32m───────────────────────────────────────────────\u001b[0m\u001b[32m Crew Completion \u001b[0m\u001b[32m───────────────────────────────────────────────\u001b[0m\u001b[32m─╮\u001b[0m\n",
       "\u001b[32m│\u001b[0m                                                                                                                 \u001b[32m│\u001b[0m\n",
       "\u001b[32m│\u001b[0m  \u001b[1;32mCrew Execution Completed\u001b[0m                                                                                       \u001b[32m│\u001b[0m\n",
       "\u001b[32m│\u001b[0m  \u001b[37mName: \u001b[0m\u001b[32mcrew\u001b[0m                                                                                                     \u001b[32m│\u001b[0m\n",
       "\u001b[32m│\u001b[0m  \u001b[37mID: \u001b[0m\u001b[32mbd730eb4-f908-4aca-b648-c30e51eee555\u001b[0m                                                                       \u001b[32m│\u001b[0m\n",
       "\u001b[32m│\u001b[0m  \u001b[37mTool Args: \u001b[0m                                                                                                    \u001b[32m│\u001b[0m\n",
       "\u001b[32m│\u001b[0m  \u001b[37mFinal Output: # Product Sync — Mobile App v2.1\u001b[0m                                                                 \u001b[32m│\u001b[0m\n",
       "\u001b[32m│\u001b[0m  \u001b[37m## 2025-09-24, 10:00–10:30\u001b[0m                                                                                     \u001b[32m│\u001b[0m\n",
       "\u001b[32m│\u001b[0m                                                                                                                 \u001b[32m│\u001b[0m\n",
       "\u001b[32m│\u001b[0m  \u001b[37m### Attendees\u001b[0m                                                                                                  \u001b[32m│\u001b[0m\n",
       "\u001b[32m│\u001b[0m  \u001b[37mAlice (PM), Ben (Eng Lead), Chloe (Design), Dan (QA)\u001b[0m                                                           \u001b[32m│\u001b[0m\n",
       "\u001b[32m│\u001b[0m                                                                                                                 \u001b[32m│\u001b[0m\n",
       "\u001b[32m│\u001b[0m  \u001b[37m### Agenda\u001b[0m                                                                                                     \u001b[32m│\u001b[0m\n",
       "\u001b[32m│\u001b[0m  \u001b[37m* Onboarding funnel drop-offs\u001b[0m                                                                                  \u001b[32m│\u001b[0m\n",
       "\u001b[32m│\u001b[0m  \u001b[37m* Release v2.1 dates & scope\u001b[0m                                                                                   \u001b[32m│\u001b[0m\n",
       "\u001b[32m│\u001b[0m  \u001b[37m* Support load after v2.0\u001b[0m                                                                                      \u001b[32m│\u001b[0m\n",
       "\u001b[32m│\u001b[0m                                                                                                                 \u001b[32m│\u001b[0m\n",
       "\u001b[32m│\u001b[0m  \u001b[37m### Key Points\u001b[0m                                                                                                 \u001b[32m│\u001b[0m\n",
       "\u001b[32m│\u001b[0m  \u001b[37m* Crash rate after v2.0 hotfix is 0.18%\u001b[0m                                                                        \u001b[32m│\u001b[0m\n",
       "\u001b[32m│\u001b[0m  \u001b[37m* New empty state mockups ready Friday\u001b[0m                                                                         \u001b[32m│\u001b[0m\n",
       "\u001b[32m│\u001b[0m  \u001b[37m* We must improve Step 2 completion; propose shorter profile form\u001b[0m                                              \u001b[32m│\u001b[0m\n",
       "\u001b[32m│\u001b[0m  \u001b[37m* Test coverage for payment edge cases at 76%. Needs more cases.\u001b[0m                                               \u001b[32m│\u001b[0m\n",
       "\u001b[32m│\u001b[0m                                                                                                                 \u001b[32m│\u001b[0m\n",
       "\u001b[32m│\u001b[0m  \u001b[37m### Decisions\u001b[0m                                                                                                  \u001b[32m│\u001b[0m\n",
       "\u001b[32m│\u001b[0m  \u001b[37m* Shorten onboarding Step 2 to a single screen (was 2). Target in v2.1.\u001b[0m                                        \u001b[32m│\u001b[0m\n",
       "\u001b[32m│\u001b[0m  \u001b[37m* Keep A/B test for copy on Step 1; no change this week.\u001b[0m                                                       \u001b[32m│\u001b[0m\n",
       "\u001b[32m│\u001b[0m                                                                                                                 \u001b[32m│\u001b[0m\n",
       "\u001b[32m│\u001b[0m  \u001b[37m### Risks\u001b[0m                                                                                                      \u001b[32m│\u001b[0m\n",
       "\u001b[32m│\u001b[0m  \u001b[37m* Support backlog rising; Alice to re-check staffing by next week.\u001b[0m                                             \u001b[32m│\u001b[0m\n",
       "\u001b[32m│\u001b[0m                                                                                                                 \u001b[32m│\u001b[0m\n",
       "\u001b[32m│\u001b[0m  \u001b[37m### Action Items\u001b[0m                                                                                               \u001b[32m│\u001b[0m\n",
       "\u001b[32m│\u001b[0m  \u001b[37m| Owner | Task | Due | Status |\u001b[0m                                                                                \u001b[32m│\u001b[0m\n",
       "\u001b[32m│\u001b[0m  \u001b[37m| --- | --- | --- | --- |\u001b[0m                                                                                      \u001b[32m│\u001b[0m\n",
       "\u001b[32m│\u001b[0m  \u001b[37m| Ben | Implement Step 2 consolidation | 2025-10-03 | - |\u001b[0m                                                      \u001b[32m│\u001b[0m\n",
       "\u001b[32m│\u001b[0m  \u001b[37m| Chloe | Share empty state assets to Eng | 2025-09-26 | - |\u001b[0m                                                   \u001b[32m│\u001b[0m\n",
       "\u001b[32m│\u001b[0m  \u001b[37m| Dan | Add 5 edge-case tests for payments | 2025-09-27 | - |\u001b[0m                                                  \u001b[32m│\u001b[0m\n",
       "\u001b[32m│\u001b[0m                                                                                                                 \u001b[32m│\u001b[0m\n",
       "\u001b[32m│\u001b[0m                                                                                                                 \u001b[32m│\u001b[0m\n",
       "\u001b[32m╰─────────────────────────────────────────────────────────────────────────────────────────────────────────────────╯\u001b[0m\n"
      ]
     },
     "metadata": {},
     "output_type": "display_data"
    },
    {
     "data": {
      "text/html": [
       "<pre style=\"white-space:pre;overflow-x:auto;line-height:normal;font-family:Menlo,'DejaVu Sans Mono',consolas,'Courier New',monospace\">\n",
       "</pre>\n"
      ],
      "text/plain": [
       "\n"
      ]
     },
     "metadata": {},
     "output_type": "display_data"
    },
    {
     "name": "stdout",
     "output_type": "stream",
     "text": [
      "# Product Sync — Mobile App v2.1\n",
      "## 2025-09-24, 10:00–10:30\n",
      "\n",
      "### Attendees\n",
      "Alice (PM), Ben (Eng Lead), Chloe (Design), Dan (QA)\n",
      "\n",
      "### Agenda\n",
      "* Onboarding funnel drop-offs\n",
      "* Release v2.1 dates & scope\n",
      "* Support load after v2.0\n",
      "\n",
      "### Key Points\n",
      "* Crash rate after v2.0 hotfix is 0.18%\n",
      "* New empty state mockups ready Friday\n",
      "* We must improve Step 2 completion; propose shorter profile form\n",
      "* Test coverage for payment edge cases at 76%. Needs more cases.\n",
      "\n",
      "### Decisions\n",
      "* Shorten onboarding Step 2 to a single screen (was 2). Target in v2.1.\n",
      "* Keep A/B test for copy on Step 1; no change this week.\n",
      "\n",
      "### Risks\n",
      "* Support backlog rising; Alice to re-check staffing by next week.\n",
      "\n",
      "### Action Items\n",
      "| Owner | Task | Due | Status |\n",
      "| --- | --- | --- | --- |\n",
      "| Ben | Implement Step 2 consolidation | 2025-10-03 | - |\n",
      "| Chloe | Share empty state assets to Eng | 2025-09-26 | - |\n",
      "| Dan | Add 5 edge-case tests for payments | 2025-09-27 | - |\n"
     ]
    }
   ],
   "source": [
    "result = crew.kickoff()\n",
    "clean_minutes = result.tasks_output[-1].raw  # Get formatter output\n",
    "print(clean_minutes)"
   ]
  },
  {
   "cell_type": "markdown",
   "id": "a7f47e71",
   "metadata": {},
   "source": [
    "### 5. (Optional) Save to a `.md` file"
   ]
  },
  {
   "cell_type": "code",
   "execution_count": 16,
   "id": "20e65042",
   "metadata": {},
   "outputs": [
    {
     "name": "stdout",
     "output_type": "stream",
     "text": [
      "Saved to meeting_minutes.md\n"
     ]
    }
   ],
   "source": [
    "from pathlib import Path\n",
    "\n",
    "Path(\"meeting_minutes.md\").write_text(clean_minutes, encoding=\"utf-8\")\n",
    "print(\"Saved to meeting_minutes.md\")"
   ]
  }
 ],
 "metadata": {
  "kernelspec": {
   "display_name": "Python 3",
   "language": "python",
   "name": "python3"
  },
  "language_info": {
   "codemirror_mode": {
    "name": "ipython",
    "version": 3
   },
   "file_extension": ".py",
   "mimetype": "text/x-python",
   "name": "python",
   "nbconvert_exporter": "python",
   "pygments_lexer": "ipython3",
   "version": "3.12.2"
  }
 },
 "nbformat": 4,
 "nbformat_minor": 5
}
