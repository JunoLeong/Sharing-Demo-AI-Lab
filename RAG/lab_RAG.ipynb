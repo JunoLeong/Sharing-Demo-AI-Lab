{
 "cells": [
  {
   "cell_type": "markdown",
   "id": "e5964d16",
   "metadata": {},
   "source": [
    "# Demo: Retrieval-Augmented Generation (RAGs) on Local Machine\n",
    "\n",
    "- RAG improves freshness, accuracy, and traceability by fetching relevant evidence first and then generating an answer that points back to its sources."
   ]
  },
  {
   "cell_type": "markdown",
   "id": "3fe99793",
   "metadata": {},
   "source": [
    "# 1.Set Up Environment\n",
    "\n",
    "Download the necessary packages for building RAG pipelines\n",
    "\n",
    "- langchain\n",
    "Core framework for building LLM apps (chains, prompts, runnables). You use it for text splitters, message types, and composing the RAG flow.\n",
    "\n",
    "- langchain_community\n",
    "Community-maintained integrations that were split out of langchain. Includes loaders (e.g., PyPDFLoader) and many third-party connectors you call in your code.\n",
    "\n",
    "- langchain-ollama\n",
    "LangChain’s native driver for Ollama. Gives you ChatOllama (talk to local LLMs like llama3.2) and OllamaEmbeddings (create embeddings locally).\n",
    "\n",
    "- sentence-transformers\n",
    "Embedding models & utilities (Hugging Face) used for semantic search/reranking. Even if you embed via Ollama, this is handy for alternatives or upgrades (e.g., cross-encoders).\n",
    "\n",
    "- chromadb\n",
    "The actual vector database engine. Stores embeddings and supports fast similarity search (kNN) for retrieval in your RAG pipeline.\n",
    "\n",
    "- langchain_chroma\n",
    "LangChain <-> Chroma adapter. Provides the Chroma vector store class you import and use from LangChain to talk to chromadb.\n",
    "\n",
    "- pypdf\n",
    "PDF parsing. Lets you read pages/text from PDFs so you can chunk them and feed them into embeddings/vector DB."
   ]
  },
  {
   "cell_type": "code",
   "execution_count": 9,
   "id": "cdccfead",
   "metadata": {},
   "outputs": [
    {
     "name": "stdout",
     "output_type": "stream",
     "text": [
      "Requirement already satisfied: langchain in c:\\users\\60175\\appdata\\local\\programs\\python\\python312\\lib\\site-packages (0.3.27)Note: you may need to restart the kernel to use updated packages.\n"
     ]
    },
    {
     "name": "stderr",
     "output_type": "stream",
     "text": [
      "WARNING: Ignoring invalid distribution ~treamlit (c:\\Users\\60175\\AppData\\Local\\Programs\\Python\\Python312\\Lib\\site-packages)\n",
      "WARNING: Ignoring invalid distribution ~treamlit (c:\\Users\\60175\\AppData\\Local\\Programs\\Python\\Python312\\Lib\\site-packages)\n",
      "WARNING: Ignoring invalid distribution ~treamlit (c:\\Users\\60175\\AppData\\Local\\Programs\\Python\\Python312\\Lib\\site-packages)\n",
      "\n",
      "[notice] A new release of pip is available: 25.0.1 -> 25.2\n",
      "[notice] To update, run: python.exe -m pip install --upgrade pip\n"
     ]
    },
    {
     "name": "stdout",
     "output_type": "stream",
     "text": [
      "\n",
      "Requirement already satisfied: langchain_community in c:\\users\\60175\\appdata\\local\\programs\\python\\python312\\lib\\site-packages (0.3.31)\n",
      "Requirement already satisfied: langchain-ollama in c:\\users\\60175\\appdata\\local\\programs\\python\\python312\\lib\\site-packages (0.3.10)\n",
      "Requirement already satisfied: sentence-transformers in c:\\users\\60175\\appdata\\local\\programs\\python\\python312\\lib\\site-packages (5.1.1)\n",
      "Requirement already satisfied: chromadb in c:\\users\\60175\\appdata\\local\\programs\\python\\python312\\lib\\site-packages (1.1.1)\n",
      "Requirement already satisfied: langchain_chroma in c:\\users\\60175\\appdata\\local\\programs\\python\\python312\\lib\\site-packages (0.2.6)\n",
      "Requirement already satisfied: pypdf in c:\\users\\60175\\appdata\\local\\programs\\python\\python312\\lib\\site-packages (6.1.1)\n",
      "Requirement already satisfied: langchain-core<1.0.0,>=0.3.72 in c:\\users\\60175\\appdata\\local\\programs\\python\\python312\\lib\\site-packages (from langchain) (0.3.79)\n",
      "Requirement already satisfied: langchain-text-splitters<1.0.0,>=0.3.9 in c:\\users\\60175\\appdata\\local\\programs\\python\\python312\\lib\\site-packages (from langchain) (0.3.11)\n",
      "Requirement already satisfied: langsmith>=0.1.17 in c:\\users\\60175\\appdata\\local\\programs\\python\\python312\\lib\\site-packages (from langchain) (0.3.45)\n",
      "Requirement already satisfied: pydantic<3.0.0,>=2.7.4 in c:\\users\\60175\\appdata\\local\\programs\\python\\python312\\lib\\site-packages (from langchain) (2.11.9)\n",
      "Requirement already satisfied: SQLAlchemy<3,>=1.4 in c:\\users\\60175\\appdata\\local\\programs\\python\\python312\\lib\\site-packages (from langchain) (2.0.30)\n",
      "Requirement already satisfied: requests<3,>=2 in c:\\users\\60175\\appdata\\local\\programs\\python\\python312\\lib\\site-packages (from langchain) (2.32.5)\n",
      "Requirement already satisfied: PyYAML>=5.3 in c:\\users\\60175\\appdata\\local\\programs\\python\\python312\\lib\\site-packages (from langchain) (6.0.2)\n",
      "Requirement already satisfied: aiohttp<4.0.0,>=3.8.3 in c:\\users\\60175\\appdata\\local\\programs\\python\\python312\\lib\\site-packages (from langchain_community) (3.11.14)\n",
      "Requirement already satisfied: tenacity!=8.4.0,<10.0.0,>=8.1.0 in c:\\users\\60175\\appdata\\local\\programs\\python\\python312\\lib\\site-packages (from langchain_community) (9.0.0)\n",
      "Requirement already satisfied: dataclasses-json<0.7.0,>=0.6.7 in c:\\users\\60175\\appdata\\local\\programs\\python\\python312\\lib\\site-packages (from langchain_community) (0.6.7)\n",
      "Requirement already satisfied: pydantic-settings<3.0.0,>=2.10.1 in c:\\users\\60175\\appdata\\local\\programs\\python\\python312\\lib\\site-packages (from langchain_community) (2.11.0)\n",
      "Requirement already satisfied: httpx-sse<1.0.0,>=0.4.0 in c:\\users\\60175\\appdata\\local\\programs\\python\\python312\\lib\\site-packages (from langchain_community) (0.4.0)\n",
      "Requirement already satisfied: numpy>=1.26.2 in c:\\users\\60175\\appdata\\local\\programs\\python\\python312\\lib\\site-packages (from langchain_community) (1.26.4)\n",
      "Requirement already satisfied: ollama<1.0.0,>=0.5.3 in c:\\users\\60175\\appdata\\local\\programs\\python\\python312\\lib\\site-packages (from langchain-ollama) (0.6.0)\n",
      "Requirement already satisfied: transformers<5.0.0,>=4.41.0 in c:\\users\\60175\\appdata\\local\\programs\\python\\python312\\lib\\site-packages (from sentence-transformers) (4.56.2)\n",
      "Requirement already satisfied: tqdm in c:\\users\\60175\\appdata\\local\\programs\\python\\python312\\lib\\site-packages (from sentence-transformers) (4.67.1)\n",
      "Requirement already satisfied: torch>=1.11.0 in c:\\users\\60175\\appdata\\local\\programs\\python\\python312\\lib\\site-packages (from sentence-transformers) (2.8.0)\n",
      "Requirement already satisfied: scikit-learn in c:\\users\\60175\\appdata\\local\\programs\\python\\python312\\lib\\site-packages (from sentence-transformers) (1.5.0)\n",
      "Requirement already satisfied: scipy in c:\\users\\60175\\appdata\\local\\programs\\python\\python312\\lib\\site-packages (from sentence-transformers) (1.12.0)\n",
      "Requirement already satisfied: huggingface-hub>=0.20.0 in c:\\users\\60175\\appdata\\local\\programs\\python\\python312\\lib\\site-packages (from sentence-transformers) (0.35.1)\n",
      "Requirement already satisfied: Pillow in c:\\users\\60175\\appdata\\local\\programs\\python\\python312\\lib\\site-packages (from sentence-transformers) (10.4.0)\n",
      "Requirement already satisfied: typing_extensions>=4.5.0 in c:\\users\\60175\\appdata\\local\\programs\\python\\python312\\lib\\site-packages (from sentence-transformers) (4.15.0)\n",
      "Requirement already satisfied: build>=1.0.3 in c:\\users\\60175\\appdata\\local\\programs\\python\\python312\\lib\\site-packages (from chromadb) (1.2.2.post1)\n",
      "Requirement already satisfied: pybase64>=1.4.1 in c:\\users\\60175\\appdata\\local\\programs\\python\\python312\\lib\\site-packages (from chromadb) (1.4.2)\n",
      "Requirement already satisfied: uvicorn>=0.18.3 in c:\\users\\60175\\appdata\\local\\programs\\python\\python312\\lib\\site-packages (from uvicorn[standard]>=0.18.3->chromadb) (0.25.0)\n",
      "Requirement already satisfied: posthog<6.0.0,>=2.4.0 in c:\\users\\60175\\appdata\\local\\programs\\python\\python312\\lib\\site-packages (from chromadb) (3.7.0)\n",
      "Requirement already satisfied: onnxruntime>=1.14.1 in c:\\users\\60175\\appdata\\local\\programs\\python\\python312\\lib\\site-packages (from chromadb) (1.22.0)\n",
      "Requirement already satisfied: opentelemetry-api>=1.2.0 in c:\\users\\60175\\appdata\\local\\programs\\python\\python312\\lib\\site-packages (from chromadb) (1.35.0)\n",
      "Requirement already satisfied: opentelemetry-exporter-otlp-proto-grpc>=1.2.0 in c:\\users\\60175\\appdata\\local\\programs\\python\\python312\\lib\\site-packages (from chromadb) (1.35.0)\n",
      "Requirement already satisfied: opentelemetry-sdk>=1.2.0 in c:\\users\\60175\\appdata\\local\\programs\\python\\python312\\lib\\site-packages (from chromadb) (1.35.0)\n",
      "Requirement already satisfied: tokenizers>=0.13.2 in c:\\users\\60175\\appdata\\local\\programs\\python\\python312\\lib\\site-packages (from chromadb) (0.22.1)\n",
      "Requirement already satisfied: pypika>=0.48.9 in c:\\users\\60175\\appdata\\local\\programs\\python\\python312\\lib\\site-packages (from chromadb) (0.48.9)\n",
      "Requirement already satisfied: overrides>=7.3.1 in c:\\users\\60175\\appdata\\local\\programs\\python\\python312\\lib\\site-packages (from chromadb) (7.7.0)\n",
      "Requirement already satisfied: importlib-resources in c:\\users\\60175\\appdata\\local\\programs\\python\\python312\\lib\\site-packages (from chromadb) (6.4.0)\n",
      "Requirement already satisfied: grpcio>=1.58.0 in c:\\users\\60175\\appdata\\local\\programs\\python\\python312\\lib\\site-packages (from chromadb) (1.67.1)\n",
      "Requirement already satisfied: bcrypt>=4.0.1 in c:\\users\\60175\\appdata\\local\\programs\\python\\python312\\lib\\site-packages (from chromadb) (4.2.0)\n",
      "Requirement already satisfied: typer>=0.9.0 in c:\\users\\60175\\appdata\\local\\programs\\python\\python312\\lib\\site-packages (from chromadb) (0.15.1)\n",
      "Requirement already satisfied: kubernetes>=28.1.0 in c:\\users\\60175\\appdata\\local\\programs\\python\\python312\\lib\\site-packages (from chromadb) (31.0.0)\n",
      "Requirement already satisfied: mmh3>=4.0.1 in c:\\users\\60175\\appdata\\local\\programs\\python\\python312\\lib\\site-packages (from chromadb) (5.0.1)\n",
      "Requirement already satisfied: orjson>=3.9.12 in c:\\users\\60175\\appdata\\local\\programs\\python\\python312\\lib\\site-packages (from chromadb) (3.10.11)\n",
      "Requirement already satisfied: httpx>=0.27.0 in c:\\users\\60175\\appdata\\local\\programs\\python\\python312\\lib\\site-packages (from chromadb) (0.27.2)\n",
      "Requirement already satisfied: rich>=10.11.0 in c:\\users\\60175\\appdata\\local\\programs\\python\\python312\\lib\\site-packages (from chromadb) (13.9.4)\n",
      "Requirement already satisfied: jsonschema>=4.19.0 in c:\\users\\60175\\appdata\\local\\programs\\python\\python312\\lib\\site-packages (from chromadb) (4.23.0)\n",
      "Requirement already satisfied: aiohappyeyeballs>=2.3.0 in c:\\users\\60175\\appdata\\local\\programs\\python\\python312\\lib\\site-packages (from aiohttp<4.0.0,>=3.8.3->langchain_community) (2.4.3)\n",
      "Requirement already satisfied: aiosignal>=1.1.2 in c:\\users\\60175\\appdata\\local\\programs\\python\\python312\\lib\\site-packages (from aiohttp<4.0.0,>=3.8.3->langchain_community) (1.3.1)\n",
      "Requirement already satisfied: attrs>=17.3.0 in c:\\users\\60175\\appdata\\local\\programs\\python\\python312\\lib\\site-packages (from aiohttp<4.0.0,>=3.8.3->langchain_community) (23.2.0)\n",
      "Requirement already satisfied: frozenlist>=1.1.1 in c:\\users\\60175\\appdata\\local\\programs\\python\\python312\\lib\\site-packages (from aiohttp<4.0.0,>=3.8.3->langchain_community) (1.5.0)\n",
      "Requirement already satisfied: multidict<7.0,>=4.5 in c:\\users\\60175\\appdata\\local\\programs\\python\\python312\\lib\\site-packages (from aiohttp<4.0.0,>=3.8.3->langchain_community) (6.1.0)\n",
      "Requirement already satisfied: propcache>=0.2.0 in c:\\users\\60175\\appdata\\local\\programs\\python\\python312\\lib\\site-packages (from aiohttp<4.0.0,>=3.8.3->langchain_community) (0.2.0)\n",
      "Requirement already satisfied: yarl<2.0,>=1.17.0 in c:\\users\\60175\\appdata\\local\\programs\\python\\python312\\lib\\site-packages (from aiohttp<4.0.0,>=3.8.3->langchain_community) (1.17.1)\n",
      "Requirement already satisfied: packaging>=19.1 in c:\\users\\60175\\appdata\\local\\programs\\python\\python312\\lib\\site-packages (from build>=1.0.3->chromadb) (24.2)\n",
      "Requirement already satisfied: pyproject_hooks in c:\\users\\60175\\appdata\\local\\programs\\python\\python312\\lib\\site-packages (from build>=1.0.3->chromadb) (1.2.0)\n",
      "Requirement already satisfied: colorama in c:\\users\\60175\\appdata\\local\\programs\\python\\python312\\lib\\site-packages (from build>=1.0.3->chromadb) (0.4.6)\n",
      "Requirement already satisfied: marshmallow<4.0.0,>=3.18.0 in c:\\users\\60175\\appdata\\local\\programs\\python\\python312\\lib\\site-packages (from dataclasses-json<0.7.0,>=0.6.7->langchain_community) (3.23.1)\n",
      "Requirement already satisfied: typing-inspect<1,>=0.4.0 in c:\\users\\60175\\appdata\\local\\programs\\python\\python312\\lib\\site-packages (from dataclasses-json<0.7.0,>=0.6.7->langchain_community) (0.9.0)\n",
      "Requirement already satisfied: anyio in c:\\users\\60175\\appdata\\local\\programs\\python\\python312\\lib\\site-packages (from httpx>=0.27.0->chromadb) (4.7.0)\n",
      "Requirement already satisfied: certifi in c:\\users\\60175\\appdata\\local\\programs\\python\\python312\\lib\\site-packages (from httpx>=0.27.0->chromadb) (2025.8.3)\n",
      "Requirement already satisfied: httpcore==1.* in c:\\users\\60175\\appdata\\local\\programs\\python\\python312\\lib\\site-packages (from httpx>=0.27.0->chromadb) (1.0.7)\n",
      "Requirement already satisfied: idna in c:\\users\\60175\\appdata\\local\\programs\\python\\python312\\lib\\site-packages (from httpx>=0.27.0->chromadb) (3.10)\n",
      "Requirement already satisfied: sniffio in c:\\users\\60175\\appdata\\local\\programs\\python\\python312\\lib\\site-packages (from httpx>=0.27.0->chromadb) (1.3.1)\n",
      "Requirement already satisfied: h11<0.15,>=0.13 in c:\\users\\60175\\appdata\\local\\programs\\python\\python312\\lib\\site-packages (from httpcore==1.*->httpx>=0.27.0->chromadb) (0.14.0)\n",
      "Requirement already satisfied: filelock in c:\\users\\60175\\appdata\\local\\programs\\python\\python312\\lib\\site-packages (from huggingface-hub>=0.20.0->sentence-transformers) (3.16.1)\n",
      "Requirement already satisfied: fsspec>=2023.5.0 in c:\\users\\60175\\appdata\\local\\programs\\python\\python312\\lib\\site-packages (from huggingface-hub>=0.20.0->sentence-transformers) (2024.9.0)\n",
      "Requirement already satisfied: jsonschema-specifications>=2023.03.6 in c:\\users\\60175\\appdata\\local\\programs\\python\\python312\\lib\\site-packages (from jsonschema>=4.19.0->chromadb) (2023.12.1)\n",
      "Requirement already satisfied: referencing>=0.28.4 in c:\\users\\60175\\appdata\\local\\programs\\python\\python312\\lib\\site-packages (from jsonschema>=4.19.0->chromadb) (0.33.0)\n",
      "Requirement already satisfied: rpds-py>=0.7.1 in c:\\users\\60175\\appdata\\local\\programs\\python\\python312\\lib\\site-packages (from jsonschema>=4.19.0->chromadb) (0.17.1)\n",
      "Requirement already satisfied: six>=1.9.0 in c:\\users\\60175\\appdata\\local\\programs\\python\\python312\\lib\\site-packages (from kubernetes>=28.1.0->chromadb) (1.16.0)\n",
      "Requirement already satisfied: python-dateutil>=2.5.3 in c:\\users\\60175\\appdata\\local\\programs\\python\\python312\\lib\\site-packages (from kubernetes>=28.1.0->chromadb) (2.9.0.post0)\n",
      "Requirement already satisfied: google-auth>=1.0.1 in c:\\users\\60175\\appdata\\local\\programs\\python\\python312\\lib\\site-packages (from kubernetes>=28.1.0->chromadb) (2.36.0)\n",
      "Requirement already satisfied: websocket-client!=0.40.0,!=0.41.*,!=0.42.*,>=0.32.0 in c:\\users\\60175\\appdata\\local\\programs\\python\\python312\\lib\\site-packages (from kubernetes>=28.1.0->chromadb) (1.8.0)\n",
      "Requirement already satisfied: requests-oauthlib in c:\\users\\60175\\appdata\\local\\programs\\python\\python312\\lib\\site-packages (from kubernetes>=28.1.0->chromadb) (2.0.0)\n",
      "Requirement already satisfied: oauthlib>=3.2.2 in c:\\users\\60175\\appdata\\local\\programs\\python\\python312\\lib\\site-packages (from kubernetes>=28.1.0->chromadb) (3.2.2)\n",
      "Requirement already satisfied: urllib3>=1.24.2 in c:\\users\\60175\\appdata\\local\\programs\\python\\python312\\lib\\site-packages (from kubernetes>=28.1.0->chromadb) (1.26.18)\n",
      "Requirement already satisfied: durationpy>=0.7 in c:\\users\\60175\\appdata\\local\\programs\\python\\python312\\lib\\site-packages (from kubernetes>=28.1.0->chromadb) (0.9)\n",
      "Requirement already satisfied: jsonpatch<2.0.0,>=1.33.0 in c:\\users\\60175\\appdata\\local\\programs\\python\\python312\\lib\\site-packages (from langchain-core<1.0.0,>=0.3.72->langchain) (1.33)\n",
      "Requirement already satisfied: requests-toolbelt<2.0.0,>=1.0.0 in c:\\users\\60175\\appdata\\local\\programs\\python\\python312\\lib\\site-packages (from langsmith>=0.1.17->langchain) (1.0.0)\n",
      "Requirement already satisfied: zstandard<0.24.0,>=0.23.0 in c:\\users\\60175\\appdata\\local\\programs\\python\\python312\\lib\\site-packages (from langsmith>=0.1.17->langchain) (0.23.0)\n",
      "Requirement already satisfied: coloredlogs in c:\\users\\60175\\appdata\\local\\programs\\python\\python312\\lib\\site-packages (from onnxruntime>=1.14.1->chromadb) (15.0.1)\n",
      "Requirement already satisfied: flatbuffers in c:\\users\\60175\\appdata\\local\\programs\\python\\python312\\lib\\site-packages (from onnxruntime>=1.14.1->chromadb) (24.3.25)\n",
      "Requirement already satisfied: protobuf in c:\\users\\60175\\appdata\\local\\programs\\python\\python312\\lib\\site-packages (from onnxruntime>=1.14.1->chromadb) (5.28.3)\n",
      "Requirement already satisfied: sympy in c:\\users\\60175\\appdata\\local\\programs\\python\\python312\\lib\\site-packages (from onnxruntime>=1.14.1->chromadb) (1.14.0)\n",
      "Requirement already satisfied: importlib-metadata<8.8.0,>=6.0 in c:\\users\\60175\\appdata\\local\\programs\\python\\python312\\lib\\site-packages (from opentelemetry-api>=1.2.0->chromadb) (7.0.1)\n",
      "Requirement already satisfied: googleapis-common-protos~=1.57 in c:\\users\\60175\\appdata\\local\\programs\\python\\python312\\lib\\site-packages (from opentelemetry-exporter-otlp-proto-grpc>=1.2.0->chromadb) (1.65.0)\n",
      "Requirement already satisfied: opentelemetry-exporter-otlp-proto-common==1.35.0 in c:\\users\\60175\\appdata\\local\\programs\\python\\python312\\lib\\site-packages (from opentelemetry-exporter-otlp-proto-grpc>=1.2.0->chromadb) (1.35.0)\n",
      "Requirement already satisfied: opentelemetry-proto==1.35.0 in c:\\users\\60175\\appdata\\local\\programs\\python\\python312\\lib\\site-packages (from opentelemetry-exporter-otlp-proto-grpc>=1.2.0->chromadb) (1.35.0)\n",
      "Requirement already satisfied: opentelemetry-semantic-conventions==0.56b0 in c:\\users\\60175\\appdata\\local\\programs\\python\\python312\\lib\\site-packages (from opentelemetry-sdk>=1.2.0->chromadb) (0.56b0)\n",
      "Requirement already satisfied: monotonic>=1.5 in c:\\users\\60175\\appdata\\local\\programs\\python\\python312\\lib\\site-packages (from posthog<6.0.0,>=2.4.0->chromadb) (1.6)\n",
      "Requirement already satisfied: backoff>=1.10.0 in c:\\users\\60175\\appdata\\local\\programs\\python\\python312\\lib\\site-packages (from posthog<6.0.0,>=2.4.0->chromadb) (2.2.1)\n",
      "Requirement already satisfied: annotated-types>=0.6.0 in c:\\users\\60175\\appdata\\local\\programs\\python\\python312\\lib\\site-packages (from pydantic<3.0.0,>=2.7.4->langchain) (0.6.0)\n",
      "Requirement already satisfied: pydantic-core==2.33.2 in c:\\users\\60175\\appdata\\local\\programs\\python\\python312\\lib\\site-packages (from pydantic<3.0.0,>=2.7.4->langchain) (2.33.2)\n",
      "Requirement already satisfied: typing-inspection>=0.4.0 in c:\\users\\60175\\appdata\\local\\programs\\python\\python312\\lib\\site-packages (from pydantic<3.0.0,>=2.7.4->langchain) (0.4.1)\n",
      "Requirement already satisfied: python-dotenv>=0.21.0 in c:\\users\\60175\\appdata\\local\\programs\\python\\python312\\lib\\site-packages (from pydantic-settings<3.0.0,>=2.10.1->langchain_community) (1.1.1)\n",
      "Requirement already satisfied: charset_normalizer<4,>=2 in c:\\users\\60175\\appdata\\local\\programs\\python\\python312\\lib\\site-packages (from requests<3,>=2->langchain) (3.4.1)\n",
      "Requirement already satisfied: markdown-it-py>=2.2.0 in c:\\users\\60175\\appdata\\local\\programs\\python\\python312\\lib\\site-packages (from rich>=10.11.0->chromadb) (3.0.0)\n",
      "Requirement already satisfied: pygments<3.0.0,>=2.13.0 in c:\\users\\60175\\appdata\\local\\programs\\python\\python312\\lib\\site-packages (from rich>=10.11.0->chromadb) (2.17.2)\n",
      "Requirement already satisfied: greenlet!=0.4.17 in c:\\users\\60175\\appdata\\local\\programs\\python\\python312\\lib\\site-packages (from SQLAlchemy<3,>=1.4->langchain) (3.1.1)\n",
      "Requirement already satisfied: networkx in c:\\users\\60175\\appdata\\local\\programs\\python\\python312\\lib\\site-packages (from torch>=1.11.0->sentence-transformers) (3.4.2)\n",
      "Requirement already satisfied: jinja2 in c:\\users\\60175\\appdata\\local\\programs\\python\\python312\\lib\\site-packages (from torch>=1.11.0->sentence-transformers) (3.1.4)\n",
      "Requirement already satisfied: setuptools in c:\\users\\60175\\appdata\\local\\programs\\python\\python312\\lib\\site-packages (from torch>=1.11.0->sentence-transformers) (75.6.0)\n",
      "Requirement already satisfied: regex!=2019.12.17 in c:\\users\\60175\\appdata\\local\\programs\\python\\python312\\lib\\site-packages (from transformers<5.0.0,>=4.41.0->sentence-transformers) (2024.11.6)\n",
      "Requirement already satisfied: safetensors>=0.4.3 in c:\\users\\60175\\appdata\\local\\programs\\python\\python312\\lib\\site-packages (from transformers<5.0.0,>=4.41.0->sentence-transformers) (0.4.5)\n",
      "Requirement already satisfied: click>=8.0.0 in c:\\users\\60175\\appdata\\local\\programs\\python\\python312\\lib\\site-packages (from typer>=0.9.0->chromadb) (8.1.8)\n",
      "Requirement already satisfied: shellingham>=1.3.0 in c:\\users\\60175\\appdata\\local\\programs\\python\\python312\\lib\\site-packages (from typer>=0.9.0->chromadb) (1.5.4)\n",
      "Requirement already satisfied: httptools>=0.5.0 in c:\\users\\60175\\appdata\\local\\programs\\python\\python312\\lib\\site-packages (from uvicorn[standard]>=0.18.3->chromadb) (0.6.4)\n",
      "Requirement already satisfied: watchfiles>=0.13 in c:\\users\\60175\\appdata\\local\\programs\\python\\python312\\lib\\site-packages (from uvicorn[standard]>=0.18.3->chromadb) (0.20.0)\n",
      "Requirement already satisfied: websockets>=10.4 in c:\\users\\60175\\appdata\\local\\programs\\python\\python312\\lib\\site-packages (from uvicorn[standard]>=0.18.3->chromadb) (13.0)\n",
      "Requirement already satisfied: joblib>=1.2.0 in c:\\users\\60175\\appdata\\local\\programs\\python\\python312\\lib\\site-packages (from scikit-learn->sentence-transformers) (1.4.2)\n",
      "Requirement already satisfied: threadpoolctl>=3.1.0 in c:\\users\\60175\\appdata\\local\\programs\\python\\python312\\lib\\site-packages (from scikit-learn->sentence-transformers) (3.4.0)\n",
      "Requirement already satisfied: cachetools<6.0,>=2.0.0 in c:\\users\\60175\\appdata\\local\\programs\\python\\python312\\lib\\site-packages (from google-auth>=1.0.1->kubernetes>=28.1.0->chromadb) (5.3.2)\n",
      "Requirement already satisfied: pyasn1-modules>=0.2.1 in c:\\users\\60175\\appdata\\local\\programs\\python\\python312\\lib\\site-packages (from google-auth>=1.0.1->kubernetes>=28.1.0->chromadb) (0.4.1)\n",
      "Requirement already satisfied: rsa<5,>=3.1.4 in c:\\users\\60175\\appdata\\local\\programs\\python\\python312\\lib\\site-packages (from google-auth>=1.0.1->kubernetes>=28.1.0->chromadb) (4.9)\n",
      "Requirement already satisfied: zipp>=0.5 in c:\\users\\60175\\appdata\\local\\programs\\python\\python312\\lib\\site-packages (from importlib-metadata<8.8.0,>=6.0->opentelemetry-api>=1.2.0->chromadb) (3.17.0)\n",
      "Requirement already satisfied: jsonpointer>=1.9 in c:\\users\\60175\\appdata\\local\\programs\\python\\python312\\lib\\site-packages (from jsonpatch<2.0.0,>=1.33.0->langchain-core<1.0.0,>=0.3.72->langchain) (3.0.0)\n",
      "Requirement already satisfied: mdurl~=0.1 in c:\\users\\60175\\appdata\\local\\programs\\python\\python312\\lib\\site-packages (from markdown-it-py>=2.2.0->rich>=10.11.0->chromadb) (0.1.2)\n",
      "Requirement already satisfied: mpmath<1.4,>=1.1.0 in c:\\users\\60175\\appdata\\local\\programs\\python\\python312\\lib\\site-packages (from sympy->onnxruntime>=1.14.1->chromadb) (1.3.0)\n",
      "Requirement already satisfied: mypy-extensions>=0.3.0 in c:\\users\\60175\\appdata\\local\\programs\\python\\python312\\lib\\site-packages (from typing-inspect<1,>=0.4.0->dataclasses-json<0.7.0,>=0.6.7->langchain_community) (1.0.0)\n",
      "Requirement already satisfied: humanfriendly>=9.1 in c:\\users\\60175\\appdata\\local\\programs\\python\\python312\\lib\\site-packages (from coloredlogs->onnxruntime>=1.14.1->chromadb) (10.0)\n",
      "Requirement already satisfied: MarkupSafe>=2.0 in c:\\users\\60175\\appdata\\local\\programs\\python\\python312\\lib\\site-packages (from jinja2->torch>=1.11.0->sentence-transformers) (2.1.5)\n",
      "Requirement already satisfied: pyreadline3 in c:\\users\\60175\\appdata\\local\\programs\\python\\python312\\lib\\site-packages (from humanfriendly>=9.1->coloredlogs->onnxruntime>=1.14.1->chromadb) (3.5.4)\n",
      "Requirement already satisfied: pyasn1<0.7.0,>=0.4.6 in c:\\users\\60175\\appdata\\local\\programs\\python\\python312\\lib\\site-packages (from pyasn1-modules>=0.2.1->google-auth>=1.0.1->kubernetes>=28.1.0->chromadb) (0.6.1)\n"
     ]
    }
   ],
   "source": [
    "%pip install -U langchain langchain_community langchain-ollama sentence-transformers chromadb langchain_chroma pypdf"
   ]
  },
  {
   "cell_type": "markdown",
   "id": "940aa11c",
   "metadata": {},
   "source": [
    "# 2. Load PDF file\n",
    "\n",
    "- Ingest the document source,, split them into small chunks, create vector embeddings, and store them in a vector database (e.g., Chroma). Keep metadata (title, URL, page) for citation later."
   ]
  },
  {
   "cell_type": "code",
   "execution_count": 10,
   "id": "aaacf66f",
   "metadata": {},
   "outputs": [],
   "source": [
    "import os\n",
    "from langchain.document_loaders import PyPDFLoader\n",
    "from langchain.text_splitter import CharacterTextSplitter, RecursiveCharacterTextSplitter\n",
    "import warnings\n",
    "warnings.filterwarnings('ignore')"
   ]
  },
  {
   "cell_type": "code",
   "execution_count": 11,
   "id": "6d11c9d5",
   "metadata": {},
   "outputs": [],
   "source": [
    "# File path for the document\n",
    "file_path = r\"D:\\Users\\60175\\Sharing_Demo\\RAG\\data\\TheLittlePrince.pdf\" #Replace with your file path"
   ]
  },
  {
   "cell_type": "code",
   "execution_count": 12,
   "id": "ff0674e4",
   "metadata": {},
   "outputs": [
    {
     "name": "stderr",
     "output_type": "stream",
     "text": [
      "Ignoring wrong pointing object 9 0 (offset 0)\n",
      "Ignoring wrong pointing object 1024 0 (offset 0)\n",
      "Ignoring wrong pointing object 1026 0 (offset 0)\n"
     ]
    },
    {
     "data": {
      "text/plain": [
       "64"
      ]
     },
     "execution_count": 12,
     "metadata": {},
     "output_type": "execute_result"
    }
   ],
   "source": [
    "# Load and split the document(pages)\n",
    "loader = PyPDFLoader(file_path)\n",
    "pages = loader.load_and_split()\n",
    "len(pages)"
   ]
  },
  {
   "cell_type": "code",
   "execution_count": null,
   "id": "e1109204",
   "metadata": {},
   "outputs": [
    {
     "data": {
      "text/plain": [
       "134"
      ]
     },
     "execution_count": 38,
     "metadata": {},
     "output_type": "execute_result"
    }
   ],
   "source": [
    "# Split pages into chunks\n",
    "text_splitter = RecursiveCharacterTextSplitter(\n",
    "    chunk_size=1000,\n",
    "    chunk_overlap=100,\n",
    ")\n",
    "chunks = text_splitter.split_documents(pages)\n",
    "\n",
    "len(chunks)"
   ]
  },
  {
   "cell_type": "markdown",
   "id": "7c3c9a2d",
   "metadata": {},
   "source": [
    "## 3. Embeddings\n",
    "\n",
    "### Workflow Overview:\n",
    "- Step 1: Generate embeddings using a pre-trained model (e.g., nomic-embed-text).\n",
    "- Step 2: Store the embeddings in ChromaDB for efficient retrieval and similarity calculations.\n",
    "- Step 3: Use the stored embeddings to perform searches, matching, or context-based retrieval."
   ]
  },
  {
   "cell_type": "code",
   "execution_count": 39,
   "id": "85bcddda",
   "metadata": {},
   "outputs": [],
   "source": [
    "# Embedding model via Ollama\n",
    "from langchain_community.embeddings import OllamaEmbeddings\n",
    "import os\n",
    "\n",
    "OLLAMA_BASE = os.getenv(\"OLLAMA_BASE\", \"http://localhost:11434\")\n",
    "TEXT_EMBEDDING_MODEL = os.getenv('TEXT_EMBEDDING_MODEL', 'nomic-embed-text')\n",
    "\n",
    "embedding = OllamaEmbeddings(model=TEXT_EMBEDDING_MODEL, base_url=OLLAMA_BASE, show_progress=True)\n"
   ]
  },
  {
   "cell_type": "markdown",
   "id": "3f55ead7",
   "metadata": {},
   "source": [
    "# 4. Build and Store in Vector Store (ChromaDB)\n",
    "\n",
    "ChromaDB is a versatile vector database designed for efficiently storing and retrieving embeddings. It integrates seamlessly with embedding models to enable high-performance similarity search and context-based retrieval.\n",
    "  \n",
    "### Key Features of ChromaDB:\n",
    "- Scalability: Handles large-scale datasets with optimized indexing and search capabilities.\n",
    "- Speed: Provides fast and accurate retrieval of embeddings for real-time applications.\n",
    "- Integration: Supports integration with popular frameworks and libraries for embedding generation."
   ]
  },
  {
   "cell_type": "code",
   "execution_count": 40,
   "id": "8e466c3c",
   "metadata": {},
   "outputs": [
    {
     "name": "stderr",
     "output_type": "stream",
     "text": [
      "OllamaEmbeddings: 100%|██████████| 134/134 [00:03<00:00, 39.06it/s]\n"
     ]
    },
    {
     "name": "stdout",
     "output_type": "stream",
     "text": [
      "ChromaDB created with document embeddings at: ./chroma_db\n"
     ]
    }
   ],
   "source": [
    "from langchain.vectorstores import Chroma\n",
    "\n",
    "# Create (and persist) a Chroma vector store from chunks\n",
    "PERSIST_DIR = \"./chroma_db\"\n",
    "db = Chroma.from_documents(chunks, embedding, persist_directory=PERSIST_DIR)\n",
    "print(\"ChromaDB created with document embeddings at:\", PERSIST_DIR)"
   ]
  },
  {
   "cell_type": "markdown",
   "id": "ede926c3",
   "metadata": {},
   "source": [
    "# 5. Retrieving Documents\n",
    "\n",
    "- When a user asks a question, transform the query if needed (rewrite/expand), then retrieve the top-k relevant chunks via semantic (or hybrid) search. \n",
    "- Optionally rerank the candidates."
   ]
  },
  {
   "cell_type": "code",
   "execution_count": 41,
   "id": "2dd3daff",
   "metadata": {},
   "outputs": [
    {
     "name": "stderr",
     "output_type": "stream",
     "text": [
      "OllamaEmbeddings: 100%|██████████| 1/1 [00:00<00:00, 36.94it/s]\n"
     ]
    }
   ],
   "source": [
    "# Simple retrieval preview\n",
    "user_question = \"Who is the author?\" \n",
    "retrieved_docs = db.similarity_search(user_question, k=10) # k is the number of documents to retrieve"
   ]
  },
  {
   "cell_type": "code",
   "execution_count": 72,
   "id": "c092397b",
   "metadata": {},
   "outputs": [
    {
     "name": "stdout",
     "output_type": "stream",
     "text": [
      "Document 1:\n",
      "aviation buffs who helped authorities identify the debris, told the \n",
      "Associated Press. \"We never even imagined this.\" Castellano said some \n",
      "Saint-Exupery fans resisted the effort to identify the wreck, preferring to \n",
      "keep the mystery alive. \"In the end, I think everyone is satisfied,\" he said. \n",
      "\"We didn't find a body, so the myth surrounding his disappearance will \n",
      "live on.\" Saint-Exupery also wrote poetic novels based on his flying \n",
      "adventures, such as \"Wind, Sand, and Stars\" and \"Night Flight.\" A new \n",
      "opera based on \"The Little Prince\" opened in Houston, Texas, last year.\n",
      "Document 2:\n",
      "aviation buffs who helped authorities identify the debris, told the \n",
      "Associated Press. \"We never even imagined this.\" Castellano said some \n",
      "Saint-Exupery fans resisted the effort to identify the wreck, preferring to \n",
      "keep the mystery alive. \"In the end, I think everyone is satisfied,\" he said. \n",
      "\"We didn't find a body, so the myth surrounding his disappearance will \n",
      "live on.\" Saint-Exupery also wrote poetic novels based on his flying \n",
      "adventures, such as \"Wind, Sand, and Stars\" and \"Night Flight.\" A new \n",
      "opera based on \"The Little Prince\" opened in Houston, Texas, last year.\n",
      "Document 3:\n",
      "aviation buffs who helped authorities identify the debris, told the \n",
      "Associated Press. \"We never even imagined this.\" Castellano said some \n",
      "Saint-Exupery fans resisted the effort to identify the wreck, preferring to \n",
      "keep the mystery alive. \"In the end, I think everyone is satisfied,\" he said. \n",
      "\"We didn't find a body, so the myth surrounding his disappearance will \n",
      "live on.\" Saint-Exupery also wrote poetic novels based on his flying \n",
      "adventures, such as \"Wind, Sand, and Stars\" and \"Night Flight.\" A new \n",
      "opera based on \"The Little Prince\" opened in Houston, Texas, last year.\n"
     ]
    }
   ],
   "source": [
    "# Display top results\n",
    "for i, doc in enumerate(retrieved_docs[:3]): # Display top 3 results\n",
    "    print(f\"Document {i+1}:\\n{doc.page_content[:1000]}\") # Display content"
   ]
  },
  {
   "cell_type": "code",
   "execution_count": 43,
   "id": "8f6189e6",
   "metadata": {},
   "outputs": [
    {
     "name": "stdout",
     "output_type": "stream",
     "text": [
      "Document 3 | p64 | TheLittlePrince.pdf\n",
      "aviation buffs who helped authorities identify the debris, told the  Associated Press. \"We never even imagined this.\" Castellano said some  Saint-Exupery fans resisted the effort to identify the wreck, preferring to  keep the mystery alive. \"In the end, I think everyone is satisfied,\" he said.  \"We \n",
      "\n"
     ]
    }
   ],
   "source": [
    "import os\n",
    "page = doc.metadata.get(\"page\")\n",
    "page = page + 1 if isinstance(page, int) else page\n",
    "src  = os.path.basename(doc.metadata.get(\"source\", \"\"))\n",
    "preview = doc.page_content.strip().replace(\"\\n\", \" \")[:300]\n",
    "\n",
    "print(f\"Document {i+1} | p{page} | {src}\\n{preview}\\n\")"
   ]
  },
  {
   "cell_type": "markdown",
   "id": "18f09d19",
   "metadata": {},
   "source": [
    "## 6. Preparing Content for GenAI"
   ]
  },
  {
   "cell_type": "code",
   "execution_count": 44,
   "id": "19553118",
   "metadata": {},
   "outputs": [],
   "source": [
    "# Assemble readable context with source & page markers.\n",
    "def _get_document_prompt(docs):\n",
    "    prompt = \"\\n\"\n",
    "    for doc in docs:\n",
    "        prompt += \"\\nContent:\\n\"\n",
    "        prompt += doc.page_content + \"\\n\\n\"\n",
    "    return prompt\n",
    "\n",
    "# Generate a formatted context from the retrieved documents\n",
    "formatted_context = _get_document_prompt(retrieved_docs)"
   ]
  },
  {
   "cell_type": "markdown",
   "id": "7afa4891",
   "metadata": {},
   "source": [
    "## 7. Prompting model\n",
    "\n",
    "- Build the model prompt with the user question + the retrieved chunks + instructions like “answer only from the context” and include source identifiers (so the model can cite)."
   ]
  },
  {
   "cell_type": "code",
   "execution_count": 58,
   "id": "dad7ae7a",
   "metadata": {},
   "outputs": [
    {
     "name": "stdout",
     "output_type": "stream",
     "text": [
      "Prompt constructed.\n"
     ]
    }
   ],
   "source": [
    "# Write the prompt for the RAG model\n",
    "\n",
    "prompt_example = f\"\"\"\n",
    "## SYSTEM\n",
    "You are a knowledgeable and factual assistant for the book \"The Little Prince\".\n",
    "Answer **only** using the provided CONTEXT. If the answer cannot be found in the context,\n",
    "reply exactly: \"The provided context does not contain this information.\"\n",
    "\n",
    "## USER QUESTION\n",
    "{user_question}\n",
    "\n",
    "## CONTEXT\n",
    "{formatted_context}\n",
    "\n",
    "## REQUIREMENTS\n",
    "- Be concise and clear (Markdown).\n",
    "- Include **Source** with file name and page numbers used.\n",
    "- No speculation.\n",
    "\n",
    "## RESPONSE FORMAT\n",
    "'''\n",
    "# [Brief Title of the Answer]\n",
    "[Answer in simple, clear text.]\n",
    "\n",
    "**Source**:\n",
    "• [Book Title], Page(s): [...]\n",
    "'''\n",
    "\"\"\"\n",
    "print(\"Prompt constructed.\")"
   ]
  },
  {
   "cell_type": "markdown",
   "id": "a65ed9fc",
   "metadata": {},
   "source": [
    "## 8. Tune parameters (LLM via Ollama)"
   ]
  },
  {
   "cell_type": "code",
   "execution_count": 59,
   "id": "a6e76de2",
   "metadata": {},
   "outputs": [
    {
     "name": "stdout",
     "output_type": "stream",
     "text": [
      "LLM ready: llama3.2\n"
     ]
    }
   ],
   "source": [
    "# Set up Ollama client and parameters\n",
    "\n",
    "from langchain_community.chat_models import ChatOllama\n",
    "\n",
    "GEN_MODEL = os.getenv(\"GEN_MODEL\", \"llama3.2\")  # Replace with your model name\n",
    "#GEN_MODEL = os.getenv(\"GEN_MODEL\", \"qwen2.5\")  # Alternative model\n",
    "\n",
    "llm = ChatOllama(\n",
    "    model=GEN_MODEL,\n",
    "    base_url=OLLAMA_BASE,   \n",
    "    temperature=0.2,\n",
    "    top_p=0.9,\n",
    "    num_predict=512         \n",
    ")\n",
    "print(\"LLM ready:\", GEN_MODEL)\n"
   ]
  },
  {
   "cell_type": "markdown",
   "id": "e20839d4",
   "metadata": {},
   "source": [
    "## 9. Generate\n",
    "\n",
    "- Ask the LLM to produce an answer grounded in those retrieved snippets. \n",
    "- This combines parametric memory (what’s in the model) with non-parametric memory (your external knowledge base)."
   ]
  },
  {
   "cell_type": "code",
   "execution_count": 60,
   "id": "071881be",
   "metadata": {},
   "outputs": [
    {
     "name": "stdout",
     "output_type": "stream",
     "text": [
      "content='## Who is the Author of \"The Little Prince\"?\\nAntoine de Saint-Exupéry.\\n\\n**Source**: \\n• Wreck Proves To Be Saint-Exupery\\'s P-38!, Page 64.' additional_kwargs={} response_metadata={'model': 'llama3.2', 'created_at': '2025-10-16T21:45:00.9834516Z', 'message': {'role': 'assistant', 'content': ''}, 'done_reason': 'stop', 'done': True, 'total_duration': 1560022500, 'load_duration': 42964400, 'prompt_eval_count': 1831, 'prompt_eval_duration': 790278200, 'eval_count': 47, 'eval_duration': 724802100} id='run--c64da30a-a3c9-4615-829b-83258337d897-0'\n"
     ]
    }
   ],
   "source": [
    "# Simple retrieval preview\n",
    "user_question = \"Please tell me who is the author of the book?\"\n",
    "answer = llm.invoke(prompt_example)\n",
    "print(answer)"
   ]
  },
  {
   "cell_type": "markdown",
   "id": "7655cb4c",
   "metadata": {},
   "source": [
    "## 10. Format Response(output) into a dataframe"
   ]
  },
  {
   "cell_type": "code",
   "execution_count": 71,
   "id": "c04cef1e",
   "metadata": {},
   "outputs": [
    {
     "name": "stdout",
     "output_type": "stream",
     "text": [
      "row 1:\n",
      "User Question: Please tell me who is the author of the book?\n",
      "Answer: ## Who is the Author of \"The Little Prince\"?\n",
      "Antoine de Saint-Exupéry.\n",
      "\n",
      "**Source**: \n",
      "• Wreck Proves To Be Saint-Exupery's P-38!, Page 64.\n",
      "LLM Model: llama3.2\n",
      "--------------------------------------------------\n"
     ]
    }
   ],
   "source": [
    "import pandas as pd\n",
    "\n",
    "for idx, row in df.iterrows():\n",
    "    print(f\"row {idx + 1}:\")\n",
    "    print(f\"User Question: {row['Question']}\")\n",
    "    print(f\"Answer: {row['Answer']}\")\n",
    "    print(f\"LLM Model: {row['Model']}\")\n",
    "    print(\"-\" * 50)"
   ]
  },
  {
   "cell_type": "code",
   "execution_count": null,
   "id": "74a096c2",
   "metadata": {},
   "outputs": [],
   "source": []
  }
 ],
 "metadata": {
  "kernelspec": {
   "display_name": "Python 3",
   "language": "python",
   "name": "python3"
  },
  "language_info": {
   "codemirror_mode": {
    "name": "ipython",
    "version": 3
   },
   "file_extension": ".py",
   "mimetype": "text/x-python",
   "name": "python",
   "nbconvert_exporter": "python",
   "pygments_lexer": "ipython3",
   "version": "3.12.2"
  }
 },
 "nbformat": 4,
 "nbformat_minor": 5
}
